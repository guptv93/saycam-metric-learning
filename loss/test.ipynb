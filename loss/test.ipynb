{
 "cells": [
  {
   "cell_type": "code",
   "execution_count": 1,
   "metadata": {},
   "outputs": [],
   "source": [
    "import torch\n",
    "import numpy as np\n",
    "\n",
    "from npair_loss import NPairLoss\n",
    "device = 'cpu'"
   ]
  },
  {
   "cell_type": "code",
   "execution_count": 2,
   "metadata": {},
   "outputs": [],
   "source": [
    "rep1 = torch.tensor([\n",
    "    [0,1],\n",
    "    [1,0],\n",
    "    [1,1]\n",
    "])\n",
    "rep2 = torch.tensor([\n",
    "    [0,-1],\n",
    "    [1,0],\n",
    "    [-1,1],\n",
    "])\n",
    "rep1 = rep1.to(device, torch.float)\n",
    "rep2 = rep2.to(device, torch.float)"
   ]
  },
  {
   "cell_type": "code",
   "execution_count": 3,
   "metadata": {},
   "outputs": [
    {
     "name": "stdout",
     "output_type": "stream",
     "text": [
      "tensor(6869.2817)\n"
     ]
    }
   ],
   "source": [
    "np_criterion_cos = NPairLoss(device, batch_size = 3, temperature = .0001, use_cosine_similarity = True)\n",
    "loss = np_criterion_cos(rep1, rep2)\n",
    "print(loss)"
   ]
  },
  {
   "cell_type": "code",
   "execution_count": 4,
   "metadata": {},
   "outputs": [
    {
     "name": "stdout",
     "output_type": "stream",
     "text": [
      "tensor(8333.9775)\n"
     ]
    }
   ],
   "source": [
    "np_criterion_dot = NPairLoss(device, batch_size = 3, temperature = .0001, use_cosine_similarity = False)\n",
    "loss = np_criterion_dot(rep1, rep2)\n",
    "print(loss)"
   ]
  }
 ],
 "metadata": {
  "kernelspec": {
   "display_name": "Python 3",
   "language": "python",
   "name": "python3"
  },
  "language_info": {
   "codemirror_mode": {
    "name": "ipython",
    "version": 3
   },
   "file_extension": ".py",
   "mimetype": "text/x-python",
   "name": "python",
   "nbconvert_exporter": "python",
   "pygments_lexer": "ipython3",
   "version": "3.6.8"
  }
 },
 "nbformat": 4,
 "nbformat_minor": 2
}
