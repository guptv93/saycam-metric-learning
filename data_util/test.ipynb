{
 "cells": [
  {
   "cell_type": "code",
   "execution_count": 1,
   "metadata": {},
   "outputs": [],
   "source": [
    "import numpy as np\n",
    "import matplotlib.pyplot as plt\n",
    "\n",
    "import torch\n",
    "from torchvision import transforms\n",
    "\n",
    "from custom_dataset import FramePairsDataset\n",
    "from custom_sampler import VideoFrameSampler\n",
    "import simclr_transforms"
   ]
  },
  {
   "cell_type": "code",
   "execution_count": 2,
   "metadata": {},
   "outputs": [],
   "source": [
    "root_directory = '../../data/mnist_png/training'\n",
    "\n",
    "mnist_transform = transforms.Compose([\n",
    "    simclr_transforms.RandomGaussianBluring(9, 1),\n",
    "    transforms.ToTensor(),\n",
    "    transforms.Normalize((0.1307,), (0.3081,))\n",
    "])\n",
    "\n",
    "\n",
    "dataset = FramePairsDataset(root_directory, '.png', distance=10, transform=mnist_transform)\n",
    "npairsampler = VideoFrameSampler(len(dataset), 100, 100)\n",
    "data_loader = torch.utils.data.DataLoader(dataset, batch_size=10, sampler=npairsampler)"
   ]
  },
  {
   "cell_type": "code",
   "execution_count": 3,
   "metadata": {},
   "outputs": [
    {
     "data": {
      "image/png": "[encoded data removed]",
      "text/plain": [
       "<Figure size 432x288 with 2 Axes>"
      ]
     },
     "metadata": {
      "needs_background": "light"
     },
     "output_type": "display_data"
    }
   ],
   "source": [
    "def test_data_loader(data_loader):\n",
    "    batch = iter(data_loader).next()\n",
    "    anchor_frames = batch[0]\n",
    "    positive_frames = batch[1]\n",
    "    anchor_frames = anchor_frames.permute(0,2,3,1)\n",
    "    positive_frames = positive_frames.permute(0,2,3,1)\n",
    "    fig, (ax1, ax2) = plt.subplots(nrows=1, ncols=2)\n",
    "    if anchor_frames.shape[3] == 1:\n",
    "        ax1.imshow(anchor_frames[0].squeeze(2))\n",
    "        ax2.imshow(positive_frames[0].squeeze(2))\n",
    "    else:\n",
    "        ax1.imshow(anchor_frames[0])\n",
    "        ax2.imshow(positive_frames[0])\n",
    "    \n",
    "test_data_loader(data_loader)"
   ]
  }
 ],
 "metadata": {
  "kernelspec": {
   "display_name": "Python 3",
   "language": "python",
   "name": "python3"
  },
  "language_info": {
   "codemirror_mode": {
    "name": "ipython",
    "version": 3
   },
   "file_extension": ".py",
   "mimetype": "text/x-python",
   "name": "python",
   "nbconvert_exporter": "python",
   "pygments_lexer": "ipython3",
   "version": "3.6.8"
  }
 },
 "nbformat": 4,
 "nbformat_minor": 2
}
