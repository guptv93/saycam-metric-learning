{
 "cells": [
  {
   "cell_type": "code",
   "execution_count": 1,
   "metadata": {},
   "outputs": [],
   "source": [
    "import numpy as np\n",
    "import matplotlib.pyplot as plt\n",
    "\n",
    "import torch\n",
    "from torchvision import transforms\n",
    "\n",
    "from npair_dataset import FramePairsDataset\n",
    "from npair_sampler import VideoFrameSampler\n",
    "import simclr_transforms"
   ]
  },
  {
   "cell_type": "code",
   "execution_count": 3,
   "metadata": {},
   "outputs": [],
   "source": [
    "root_directory = '../../data/moving_mnist/imgs_train'\n",
    "\n",
    "transform = transforms.Compose([\n",
    "    #simclr_transforms.get_color_distortion(.1),\n",
    "    simclr_transforms.RandomGaussianBluring(5, 1),\n",
    "    transforms.ToTensor(),\n",
    "    transforms.Normalize(mean=[0.485, 0.456, 0.406], std=[0.229, 0.224, 0.225])\n",
    "])\n",
    "\n",
    "\n",
    "\n",
    "dataset = FramePairsDataset(root_directory, '.npy', distance=10, transform=transform)\n",
    "npairsampler = VideoFrameSampler(len(dataset), 100, 100)\n",
    "data_loader = torch.utils.data.DataLoader(dataset, batch_size=10, sampler=npairsampler)"
   ]
  },
  {
   "cell_type": "code",
   "execution_count": 4,
   "metadata": {},
   "outputs": [
    {
     "name": "stderr",
     "output_type": "stream",
     "text": [
      "Clipping input data to the valid range for imshow with RGB data ([0..1] for floats or [0..255] for integers).\n",
      "Clipping input data to the valid range for imshow with RGB data ([0..1] for floats or [0..255] for integers).\n"
     ]
    },
    {
     "data": {
      "image/png": "[encoded data removed]",
      "text/plain": [
       "<Figure size 432x288 with 2 Axes>"
      ]
     },
     "metadata": {
      "needs_background": "light"
     },
     "output_type": "display_data"
    }
   ],
   "source": [
    "def test_data_loader(data_loader):\n",
    "    batch = iter(data_loader).next()\n",
    "    anchor_frames = batch[0]\n",
    "    positive_frames = batch[1]\n",
    "    anchor_frames = anchor_frames.permute(0,2,3,1)\n",
    "    positive_frames = positive_frames.permute(0,2,3,1)\n",
    "    fig, (ax1, ax2) = plt.subplots(nrows=1, ncols=2)\n",
    "    ax1.imshow(anchor_frames[0])\n",
    "    ax2.imshow(positive_frames[0])\n",
    "    \n",
    "test_data_loader(data_loader)"
   ]
  }
 ],
 "metadata": {
  "kernelspec": {
   "display_name": "Python 3",
   "language": "python",
   "name": "python3"
  },
  "language_info": {
   "codemirror_mode": {
    "name": "ipython",
    "version": 3
   },
   "file_extension": ".py",
   "mimetype": "text/x-python",
   "name": "python",
   "nbconvert_exporter": "python",
   "pygments_lexer": "ipython3",
   "version": "3.6.8"
  }
 },
 "nbformat": 4,
 "nbformat_minor": 2
}
