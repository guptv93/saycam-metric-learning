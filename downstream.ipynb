{
 "cells": [
  {
   "cell_type": "markdown",
   "metadata": {},
   "source": [
    "## Imports"
   ]
  },
  {
   "cell_type": "code",
   "execution_count": 1,
   "metadata": {},
   "outputs": [
    {
     "name": "stdout",
     "output_type": "stream",
     "text": [
      "cuda:0\n"
     ]
    }
   ],
   "source": [
    "import numpy as np\n",
    "import matplotlib.pyplot as plt\n",
    "import torch\n",
    "from torch import nn, optim\n",
    "import torch.nn.functional as F\n",
    "from torchvision import transforms, datasets, models\n",
    "from IPython.display import clear_output\n",
    "\n",
    "device = torch.device(\"cuda:0\" if torch.cuda.is_available() else \"cpu\")\n",
    "print(device)"
   ]
  },
  {
   "cell_type": "markdown",
   "metadata": {},
   "source": [
    "## Create Model"
   ]
  },
  {
   "cell_type": "code",
   "execution_count": 2,
   "metadata": {},
   "outputs": [],
   "source": [
    "# model = models.resnet50()\n",
    "# model.fc = nn.Linear(2048,100)\n",
    "from mnist_model import model\n",
    "\n",
    "# Load weigths from the model trained on upstream task\n",
    "# model_file = './archive/model.pth'\n",
    "# state_dict = torch.load(model_file)\n",
    "# model.load_state_dict(state_dict)\n",
    "\n",
    "# Decide whether to freeze or finetune the model\n",
    "# for param in model.parameters():\n",
    "#     param.requires_grad = False\n",
    "\n",
    "# linear_reg = nn.Linear(100,10)\n",
    "# model = nn.Sequential(model, linear_reg)\n",
    "\n",
    "#print(model)\n",
    "model.to(device)\n",
    "\n",
    "criterion = nn.CrossEntropyLoss()\n",
    "optimizer = optim.Adam(model.parameters(), lr=0.001)\n",
    "scheduler = optim.lr_scheduler.StepLR(optimizer, step_size=70, gamma=0.1)"
   ]
  },
  {
   "cell_type": "markdown",
   "metadata": {},
   "source": [
    "## Load Synthetic MNIST"
   ]
  },
  {
   "cell_type": "code",
   "execution_count": 3,
   "metadata": {},
   "outputs": [
    {
     "name": "stdout",
     "output_type": "stream",
     "text": [
      "Length of training set is 10000.\n",
      "Length of training set is 2000.\n"
     ]
    }
   ],
   "source": [
    "transform = transforms.Compose([transforms.Resize(245),\n",
    "                                      transforms.CenterCrop(224),\n",
    "                                      transforms.ToTensor(),\n",
    "                                      transforms.Normalize(mean=[0.485, 0.456, 0.406],std=[0.229, 0.224, 0.225])])\n",
    "train_set = datasets.ImageFolder('/misc/vlgscratch4/LakeGroup/vaibhav/data/synthetic_digits/imgs_train', transform=transform)\n",
    "val_set = datasets.ImageFolder('/misc/vlgscratch4/LakeGroup/vaibhav/data/synthetic_digits/imgs_valid', transform=transform)\n",
    "print(\"Length of training set is %d.\" %len(train_set))\n",
    "print(\"Length of training set is %d.\" %len(val_set))\n",
    "\n",
    "train_loader = torch.utils.data.DataLoader(train_set, batch_size=64, shuffle=True)\n",
    "val_loader = torch.utils.data.DataLoader(val_set, batch_size=64, shuffle=True)"
   ]
  },
  {
   "cell_type": "markdown",
   "metadata": {},
   "source": [
    "## Train the Network"
   ]
  },
  {
   "cell_type": "code",
   "execution_count": 4,
   "metadata": {},
   "outputs": [],
   "source": [
    "def train(epoch):\n",
    "    model.train()\n",
    "    running_loss = 0\n",
    "    lr = optimizer.param_groups[0]['lr']\n",
    "    for images, labels  in train_loader:\n",
    "        optimizer.zero_grad()\n",
    "        images, labels = images.to(device), labels.to(device)\n",
    "        preds = model(images)\n",
    "        loss = criterion(preds, labels)\n",
    "        loss.backward()\n",
    "        optimizer.step()\n",
    "        running_loss += loss.item()\n",
    "    print(\"Epoch: %3d | Running Loss: %f | LR : %.9f\" \n",
    "          % (epoch, running_loss, lr))\n",
    "    return running_loss\n",
    "\n",
    "\n",
    "def validation():\n",
    "    model.eval()\n",
    "    scheduler.step()\n",
    "    correct = 0\n",
    "    with torch.no_grad():\n",
    "        for data, target in val_loader:\n",
    "            data, target = data.to(device), target.to(device)\n",
    "            output = model(data)\n",
    "            pred = output.data.max(1, keepdim=True)[1] # get the index of the max log-probability\n",
    "            correct += pred.eq(target.data.view_as(pred)).to(device).sum()\n",
    "    return correct.item()"
   ]
  },
  {
   "cell_type": "code",
   "execution_count": 5,
   "metadata": {},
   "outputs": [
    {
     "name": "stdout",
     "output_type": "stream",
     "text": [
      "Epoch:   0 | Running Loss: 192.640598 | LR : 0.001000000\n",
      "Correct Samples = 1575 || Accuracy = 0.79\n",
      "Epoch:   1 | Running Loss: 86.120432 | LR : 0.001000000\n",
      "Epoch:   2 | Running Loss: 52.871110 | LR : 0.001000000\n",
      "Epoch:   3 | Running Loss: 36.017855 | LR : 0.001000000\n",
      "Epoch:   4 | Running Loss: 26.217930 | LR : 0.001000000\n",
      "Epoch:   5 | Running Loss: 21.278972 | LR : 0.001000000\n",
      "Correct Samples = 1794 || Accuracy = 0.90\n",
      "Epoch:   6 | Running Loss: 16.902246 | LR : 0.001000000\n",
      "Epoch:   7 | Running Loss: 14.519678 | LR : 0.001000000\n",
      "Epoch:   8 | Running Loss: 14.389731 | LR : 0.001000000\n",
      "Epoch:   9 | Running Loss: 10.995138 | LR : 0.001000000\n",
      "Epoch:  10 | Running Loss: 11.825016 | LR : 0.001000000\n",
      "Correct Samples = 1797 || Accuracy = 0.90\n",
      "Epoch:  11 | Running Loss: 11.566380 | LR : 0.001000000\n",
      "Epoch:  12 | Running Loss: 11.557535 | LR : 0.001000000\n",
      "Epoch:  13 | Running Loss: 8.989956 | LR : 0.001000000\n",
      "Epoch:  14 | Running Loss: 8.380363 | LR : 0.001000000\n",
      "Epoch:  15 | Running Loss: 7.567797 | LR : 0.001000000\n",
      "Correct Samples = 1809 || Accuracy = 0.90\n",
      "Epoch:  16 | Running Loss: 8.942571 | LR : 0.001000000\n",
      "Epoch:  17 | Running Loss: 7.922200 | LR : 0.001000000\n",
      "Epoch:  18 | Running Loss: 6.913780 | LR : 0.001000000\n",
      "Epoch:  19 | Running Loss: 6.308234 | LR : 0.001000000\n",
      "Epoch:  20 | Running Loss: 6.735501 | LR : 0.001000000\n",
      "Correct Samples = 1804 || Accuracy = 0.90\n",
      "Epoch:  21 | Running Loss: 8.234365 | LR : 0.001000000\n",
      "Epoch:  22 | Running Loss: 8.136435 | LR : 0.001000000\n",
      "Epoch:  23 | Running Loss: 6.110441 | LR : 0.001000000\n",
      "Epoch:  24 | Running Loss: 7.791065 | LR : 0.001000000\n"
     ]
    },
    {
     "data": {
      "text/plain": [
       "[<matplotlib.lines.Line2D at 0x7feeb5f78630>]"
      ]
     },
     "execution_count": 5,
     "metadata": {},
     "output_type": "execute_result"
    },
    {
     "data": {
      "image/png": "[encoded data removed]",
      "text/plain": [
       "<Figure size 432x288 with 1 Axes>"
      ]
     },
     "metadata": {
      "needs_background": "light"
     },
     "output_type": "display_data"
    }
   ],
   "source": [
    "epochs = 25\n",
    "#max_accuracy = 0\n",
    "train_losses = []\n",
    "for epoch in range(epochs):\n",
    "    train_losses.append(train(epoch))\n",
    "    if epoch%5 == 0:\n",
    "        accuracy = validation()\n",
    "        print(\"Correct Samples = %d || Accuracy = %.2f\" %(accuracy, accuracy/len(val_set)))\n",
    "\n",
    "plt.plot(train_losses)"
   ]
  }
 ],
 "metadata": {
  "kernelspec": {
   "display_name": "Python 3",
   "language": "python",
   "name": "python3"
  },
  "language_info": {
   "codemirror_mode": {
    "name": "ipython",
    "version": 3
   },
   "file_extension": ".py",
   "mimetype": "text/x-python",
   "name": "python",
   "nbconvert_exporter": "python",
   "pygments_lexer": "ipython3",
   "version": "3.6.8"
  }
 },
 "nbformat": 4,
 "nbformat_minor": 2
}
