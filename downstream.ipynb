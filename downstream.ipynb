{
 "cells": [
  {
   "cell_type": "markdown",
   "metadata": {},
   "source": [
    "## Imports"
   ]
  },
  {
   "cell_type": "code",
   "execution_count": 21,
   "metadata": {},
   "outputs": [
    {
     "name": "stdout",
     "output_type": "stream",
     "text": [
      "cuda:0\n"
     ]
    }
   ],
   "source": [
    "import os\n",
    "import os.path\n",
    "import sys\n",
    "from IPython.display import clear_output\n",
    "from time import sleep\n",
    "\n",
    "import numpy as np\n",
    "import matplotlib.pyplot as plt\n",
    "from random import randrange\n",
    "\n",
    "import torch\n",
    "import torch.nn.functional as F\n",
    "from torchvision import transforms, datasets, models\n",
    "from torch import nn, optim\n",
    "from torch.utils.data.sampler import Sampler\n",
    "\n",
    "device = torch.device(\"cuda:0\" if torch.cuda.is_available() else \"cpu\")\n",
    "print(device)"
   ]
  },
  {
   "cell_type": "markdown",
   "metadata": {},
   "source": [
    "## Create Model"
   ]
  },
  {
   "cell_type": "code",
   "execution_count": 22,
   "metadata": {},
   "outputs": [
    {
     "name": "stdout",
     "output_type": "stream",
     "text": [
      "Sequential(\n",
      "  (0): Conv2d(3, 10, kernel_size=(5, 5), stride=(1, 1))\n",
      "  (1): MaxPool2d(kernel_size=2, stride=2, padding=0, dilation=1, ceil_mode=False)\n",
      "  (2): ReLU()\n",
      "  (3): Conv2d(10, 20, kernel_size=(5, 5), stride=(1, 1))\n",
      "  (4): MaxPool2d(kernel_size=2, stride=2, padding=0, dilation=1, ceil_mode=False)\n",
      "  (5): ReLU()\n",
      "  (6): Flatten()\n",
      "  (7): Dropout(p=0.2, inplace=False)\n",
      "  (8): Linear(in_features=6480, out_features=200, bias=True)\n",
      "  (9): ReLU()\n",
      "  (10): Dropout(p=0.2, inplace=False)\n",
      "  (11): Linear(in_features=200, out_features=50, bias=True)\n",
      "  (12): ReLU()\n",
      "  (13): Linear(in_features=50, out_features=10, bias=True)\n",
      "  (14): ReLU()\n",
      "  (15): Linear(in_features=10, out_features=2, bias=True)\n",
      ")\n"
     ]
    }
   ],
   "source": [
    "from model.mnist_model import model\n",
    "\n",
    "# Load weigths from the model trained on upstream task\n",
    "model_file = './mnist.pth'\n",
    "state_dict = torch.load(model_file)\n",
    "model.load_state_dict(state_dict)\n",
    "\n",
    "# Decide whether to freeze or finetune the model\n",
    "for param in model.parameters():\n",
    "    param.requires_grad = False\n",
    "\n",
    "model.to(device)\n",
    "print(model)\n",
    "\n",
    "criterion = nn.CrossEntropyLoss()\n",
    "optimizer = optim.Adam(model.parameters(), lr=0.001)\n",
    "scheduler = optim.lr_scheduler.StepLR(optimizer, step_size=70, gamma=0.1)"
   ]
  },
  {
   "cell_type": "markdown",
   "metadata": {},
   "source": [
    "## Load Moving MNIST"
   ]
  },
  {
   "cell_type": "code",
   "execution_count": 26,
   "metadata": {},
   "outputs": [
    {
     "name": "stderr",
     "output_type": "stream",
     "text": [
      "Clipping input data to the valid range for imshow with RGB data ([0..1] for floats or [0..255] for integers).\n",
      "Clipping input data to the valid range for imshow with RGB data ([0..1] for floats or [0..255] for integers).\n",
      "Clipping input data to the valid range for imshow with RGB data ([0..1] for floats or [0..255] for integers).\n",
      "Clipping input data to the valid range for imshow with RGB data ([0..1] for floats or [0..255] for integers).\n"
     ]
    },
    {
     "name": "stdout",
     "output_type": "stream",
     "text": [
      "torch.Size([100, 3, 84, 84])\n",
      "tensor(9)\n",
      "tensor(6)\n"
     ]
    },
    {
     "data": {
      "image/png": "[encoded data removed]",
      "text/plain": [
       "<Figure size 432x288 with 4 Axes>"
      ]
     },
     "metadata": {
      "needs_background": "light"
     },
     "output_type": "display_data"
    }
   ],
   "source": [
    "root_directory = '../data/moving_mnist/imgs_train'\n",
    "\n",
    "from data_util.npair_dataset import FramePairsDataset\n",
    "from data_util.npair_sampler import VideoFrameSampler\n",
    "import data_util.simclr_transforms as custom_transform\n",
    "\n",
    "batch_size = 100\n",
    "frames_per_epoch = 100\n",
    "transform = transforms.Compose([\n",
    "    #custom_transform.get_color_distortion(.1),\n",
    "    custom_transform.RandomGaussianBluring(5, 1),\n",
    "    transforms.ToTensor(),\n",
    "    transforms.Normalize(mean=[0.485, 0.456, 0.406], std=[0.229, 0.224, 0.225])\n",
    "])\n",
    "\n",
    "dataset = FramePairsDataset(root_directory, '.npy', distance=15, transform=transform)\n",
    "\n",
    "sampler = VideoFrameSampler(len(dataset), frames_per_epoch, 100)\n",
    "\n",
    "data_loader = torch.utils.data.DataLoader(dataset, batch_size, sampler=sampler)\n",
    "\n",
    "def test_data_loader(data_loader):\n",
    "    anchors, positives, labels = iter(data_loader).next()\n",
    "    print(anchors.shape)\n",
    "    anchors = anchors.permute(0,2,3,1)\n",
    "    positives = positives.permute(0,2,3,1)\n",
    "    fig, ((ax1, ax2), (ax3, ax4)) = plt.subplots(nrows=2, ncols=2)\n",
    "    print(labels[0])\n",
    "    ax1.imshow(anchors[0])\n",
    "    ax2.imshow(positives[0])\n",
    "    print(labels[1])\n",
    "    ax3.imshow(anchors[1])\n",
    "    ax4.imshow(positives[1])\n",
    "    \n",
    "test_data_loader(data_loader)"
   ]
  },
  {
   "cell_type": "code",
   "execution_count": 27,
   "metadata": {},
   "outputs": [
    {
     "data": {
      "text/plain": [
       "<matplotlib.collections.PathCollection at 0x7faa4c1f8f60>"
      ]
     },
     "execution_count": 27,
     "metadata": {},
     "output_type": "execute_result"
    },
    {
     "data": {
      "image/png": "[encoded data removed]",
      "text/plain": [
       "<Figure size 432x288 with 1 Axes>"
      ]
     },
     "metadata": {
      "needs_background": "light"
     },
     "output_type": "display_data"
    }
   ],
   "source": [
    "anchors, positives, labels = iter(data_loader).next()\n",
    "anchors = anchors.to(device)\n",
    "representation = model(anchors)\n",
    "X = representation[:,0]\n",
    "Y = representation[:,1]\n",
    "\n",
    "plt.scatter(X.cpu(), Y.cpu(), c=labels, cmap= 'gist_rainbow')\n"
   ]
  },
  {
   "cell_type": "markdown",
   "metadata": {},
   "source": [
    "## Train the Network"
   ]
  },
  {
   "cell_type": "code",
   "execution_count": null,
   "metadata": {},
   "outputs": [],
   "source": [
    "def train(epoch):\n",
    "    model.train()\n",
    "    running_loss = 0\n",
    "    lr = optimizer.param_groups[0]['lr']\n",
    "    for images, labels  in train_loader:\n",
    "        optimizer.zero_grad()\n",
    "        images, labels = images.to(device), labels.to(device)\n",
    "        preds = model(images)\n",
    "        loss = criterion(preds, labels)\n",
    "        loss.backward()\n",
    "        optimizer.step()\n",
    "        running_loss += loss.item()\n",
    "    print(\"Epoch: %3d | Running Loss: %f | LR : %.9f\" \n",
    "          % (epoch, running_loss, lr))\n",
    "    return running_loss\n",
    "\n",
    "\n",
    "def validation():\n",
    "    model.eval()\n",
    "    scheduler.step()\n",
    "    correct = 0\n",
    "    with torch.no_grad():\n",
    "        for data, target in val_loader:\n",
    "            data, target = data.to(device), target.to(device)\n",
    "            output = model(data)\n",
    "            pred = output.data.max(1, keepdim=True)[1] # get the index of the max log-probability\n",
    "            correct += pred.eq(target.data.view_as(pred)).to(device).sum()\n",
    "    return correct.item()"
   ]
  },
  {
   "cell_type": "code",
   "execution_count": null,
   "metadata": {},
   "outputs": [],
   "source": [
    "epochs = 20\n",
    "#max_accuracy = 0\n",
    "train_losses = []\n",
    "for epoch in range(epochs):\n",
    "    train_losses.append(train(epoch))\n",
    "    if epoch%5 == 0:\n",
    "        accuracy = validation()\n",
    "        print(\"Correct Samples = %d || Accuracy = %.2f\" %(accuracy, accuracy*100./len(val_set)))\n",
    "\n",
    "plt.plot(train_losses)"
   ]
  }
 ],
 "metadata": {
  "kernelspec": {
   "display_name": "Python 3",
   "language": "python",
   "name": "python3"
  },
  "language_info": {
   "codemirror_mode": {
    "name": "ipython",
    "version": 3
   },
   "file_extension": ".py",
   "mimetype": "text/x-python",
   "name": "python",
   "nbconvert_exporter": "python",
   "pygments_lexer": "ipython3",
   "version": "3.6.8"
  }
 },
 "nbformat": 4,
 "nbformat_minor": 2
}
