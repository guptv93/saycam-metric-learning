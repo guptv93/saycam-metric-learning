{
 "cells": [
  {
   "cell_type": "code",
   "execution_count": null,
   "metadata": {},
   "outputs": [],
   "source": [
    "import torch\n",
    "from torchvision import transforms, datasets, models\n",
    "from torch import nn, optim\n",
    "import numpy as np\n",
    "import matplotlib.pyplot as plt\n",
    "import os\n",
    "import torch.nn.functional as F\n",
    "from IPython.display import clear_output\n",
    "from time import sleep\n",
    "\n",
    "device = torch.device(\"cuda:0\" if torch.cuda.is_available() else \"cpu\")\n",
    "print(device)"
   ]
  },
  {
   "cell_type": "markdown",
   "metadata": {},
   "source": [
    "## Create Model"
   ]
  },
  {
   "cell_type": "code",
   "execution_count": null,
   "metadata": {},
   "outputs": [],
   "source": [
    "model = models.resnet50()\n",
    "model.fc = nn.Linear(2048,100)\n",
    "\n",
    "model_file = 'model.pth'\n",
    "state_dict = torch.load(model_file)\n",
    "model.load_state_dict(state_dict)\n",
    "\n",
    "linear_reg = nn.Linear(100,10)\n",
    "model_ds = nn.Sequential(model, linear_reg)\n",
    "#print(model)\n",
    "\n",
    "model_ds.to(device)\n",
    "\n",
    "criterion = nn.CrossEntropyLoss()\n",
    "optimizer = optim.Adam(linear_reg.parameters(), lr=0.001)\n",
    "scheduler = optim.lr_scheduler.StepLR(optimizer, step_size=70, gamma=0.1)"
   ]
  },
  {
   "cell_type": "markdown",
   "metadata": {},
   "source": [
    "## Load Synthetic MNIST"
   ]
  },
  {
   "cell_type": "code",
   "execution_count": null,
   "metadata": {},
   "outputs": [],
   "source": [
    "transform = transforms.Compose([transforms.Resize(245),\n",
    "                                      transforms.CenterCrop(244),\n",
    "                                      transforms.ToTensor(),\n",
    "                                      transforms.Normalize(mean=[0.485, 0.456, 0.406],std=[0.229, 0.224, 0.225])])\n",
    "train_set = datasets.ImageFolder('/scratch/vvg239/headcam/synthetic_digits/imgs_train', transform=transform)\n",
    "val_set = datasets.ImageFolder('/scratch/vvg239/headcam/synthetic_digits/imgs_valid', transform=transform)\n",
    "print(len(train_set))\n",
    "\n",
    "train_loader = torch.utils.data.DataLoader(train_set, batch_size=64, shuffle=True)\n",
    "\n",
    "val_loader = torch.utils.data.DataLoader(val_set, batch_size=64, shuffle=True)"
   ]
  },
  {
   "cell_type": "markdown",
   "metadata": {},
   "source": [
    "## Train the Network"
   ]
  },
  {
   "cell_type": "code",
   "execution_count": null,
   "metadata": {},
   "outputs": [],
   "source": [
    "def train(epoch):\n",
    "    model_ds.train()\n",
    "    running_loss = 0\n",
    "    lr = optimizer.param_groups[0]['lr']\n",
    "    for images, labels  in train_loader:\n",
    "        optimizer.zero_grad()\n",
    "        images = images.to(device)\n",
    "        preds = model_ds(images)\n",
    "        labels = labels.to(device)\n",
    "        loss = criterion(preds, labels)\n",
    "        loss.backward()\n",
    "        optimizer.step()\n",
    "        running_loss += loss.item()\n",
    "    print(\"Epoch: %3d | Running Loss: %f | LR : %.9f\" \n",
    "          % (epoch, running_loss, lr))\n",
    "    return running_loss\n",
    "\n",
    "\n",
    "def validation():\n",
    "    model_ds.eval()\n",
    "    scheduler.step()\n",
    "    correct = 0\n",
    "    with torch.no_grad():\n",
    "        for data, target in val_loader:\n",
    "            data, target = data.to(device), target.to(device)\n",
    "            output = model_ds(data)\n",
    "            pred = output.data.max(1, keepdim=True)[1] # get the index of the max log-probability\n",
    "            correct += pred.eq(target.data.view_as(pred)).to(device).sum()\n",
    "    return correct.item()"
   ]
  },
  {
   "cell_type": "code",
   "execution_count": null,
   "metadata": {},
   "outputs": [],
   "source": [
    "epochs = 50\n",
    "#max_accuracy = 0\n",
    "train_losses = []\n",
    "for epoch in range(epochs):\n",
    "    train_losses.append(train(epoch))\n",
    "    if epoch%5 == 0:\n",
    "        accuracy = validation()\n",
    "        print(\"Correct Samples = %d || Accuracy = %.2f\" %(accuracy, accuracy/len(val_set)))\n",
    "\n",
    "plt.plot(train_losses)"
   ]
  }
 ],
 "metadata": {
  "kernelspec": {
   "display_name": "Python 3",
   "language": "python",
   "name": "python3"
  },
  "language_info": {
   "codemirror_mode": {
    "name": "ipython",
    "version": 3
   },
   "file_extension": ".py",
   "mimetype": "text/x-python",
   "name": "python",
   "nbconvert_exporter": "python",
   "pygments_lexer": "ipython3",
   "version": "3.6.9"
  }
 },
 "nbformat": 4,
 "nbformat_minor": 2
}
