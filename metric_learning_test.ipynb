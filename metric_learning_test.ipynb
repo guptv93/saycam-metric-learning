{
 "cells": [
  {
   "cell_type": "code",
   "execution_count": 10,
   "metadata": {},
   "outputs": [
    {
     "name": "stdout",
     "output_type": "stream",
     "text": [
      "cuda:0\n"
     ]
    }
   ],
   "source": [
    "import os\n",
    "import os.path\n",
    "import sys\n",
    "from IPython.display import clear_output\n",
    "from time import sleep\n",
    "\n",
    "import numpy as np\n",
    "import matplotlib.pyplot as plt\n",
    "from random import randrange\n",
    "\n",
    "import torch\n",
    "import torch.nn.functional as F\n",
    "from torchvision import transforms, datasets, models\n",
    "from torch import nn, optim\n",
    "from torch.utils.data.sampler import Sampler\n",
    "\n",
    "device = torch.device(\"cuda:0\" if torch.cuda.is_available() else \"cpu\")\n",
    "print(device)"
   ]
  },
  {
   "cell_type": "markdown",
   "metadata": {},
   "source": [
    "### Visualize Single Frame"
   ]
  },
  {
   "cell_type": "code",
   "execution_count": 11,
   "metadata": {},
   "outputs": [
    {
     "data": {
      "text/plain": [
       "<matplotlib.image.AxesImage at 0x7fc2e6ba5940>"
      ]
     },
     "execution_count": 11,
     "metadata": {},
     "output_type": "execute_result"
    },
    {
     "data": {
      "image/png": "[encoded data removed]",
      "text/plain": [
       "<Figure size 432x288 with 1 Axes>"
      ]
     },
     "metadata": {
      "needs_background": "light"
     },
     "output_type": "display_data"
    }
   ],
   "source": [
    "train_directory = '../data/moving_mnist/imgs_train'\n",
    "val_directory = '../data/moving_mnist/imgs_valid'\n",
    "npy_path = train_directory + '/4/video_4.npy'\n",
    "frames = np.load(npy_path)\n",
    "\n",
    "#Change Background and Plot Image\n",
    "image = frames[10]\n",
    "image[np.where((image < [0.5,0.5,0.5]).all(axis=2))] = np.random.rand(3)\n",
    "plt.imshow(image)"
   ]
  },
  {
   "cell_type": "markdown",
   "metadata": {},
   "source": [
    "### Visualize Video"
   ]
  },
  {
   "cell_type": "code",
   "execution_count": 12,
   "metadata": {},
   "outputs": [],
   "source": [
    "def plot_videoframes(frames):\n",
    "    for i in range(frames.shape[0]//5):\n",
    "        image = frames[i, :, :, :]\n",
    "        image[np.where((image < [0.5,0.5,0.5]).all(axis=2))] = np.random.rand(3)\n",
    "        plt.imshow(image, interpolation='nearest')\n",
    "        plt.show()\n",
    "        sleep(0.01)\n",
    "        clear_output(wait=True)\n",
    "\n",
    "    plt.close()\n",
    "    print(frames.shape)\n",
    "    \n",
    "#plot_videoframes(frames)"
   ]
  },
  {
   "cell_type": "markdown",
   "metadata": {},
   "source": [
    "### Background Transformation"
   ]
  },
  {
   "cell_type": "code",
   "execution_count": 13,
   "metadata": {},
   "outputs": [],
   "source": [
    "# def change_background(img):\n",
    "#     img[torch.where((img < torch.tensor([0.2,0.2,0.2])).all(axis=2))] = torch.rand(3)\n",
    "    \n",
    "class ChangeBackground(object):\n",
    "    \n",
    "    def __init__(self, threshold):\n",
    "        self.threshold_tensor = torch.zeros(3).fill_(threshold)\n",
    "        self.background_tensor = torch.tensor([[0.9, 0.8, 0.3], [0.5, 0.5, 0.5]])\n",
    "        \n",
    "    def __call__(self, sample):\n",
    "        i = randrange(2)\n",
    "        background_tensor = self.background_tensor[i]\n",
    "        sample = sample.permute(1,2,0)\n",
    "        sample[torch.where((sample < self.threshold_tensor).all(axis=2))] = background_tensor\n",
    "        sample = sample.permute(2,0,1)\n",
    "        return sample"
   ]
  },
  {
   "cell_type": "markdown",
   "metadata": {},
   "source": [
    "### Custom Dataset and Sampler"
   ]
  },
  {
   "cell_type": "code",
   "execution_count": 14,
   "metadata": {},
   "outputs": [],
   "source": [
    "from data_util.npair_dataset import FramePairsDataset\n",
    "from data_util.npair_sampler import VideoFrameSampler\n",
    "import data_util.simclr_transforms as custom_transform\n",
    "\n",
    "batch_size = 10\n",
    "frames_per_epoch = 100\n",
    "transform = transforms.Compose([\n",
    "    #custom_transform.get_color_distortion(.1),\n",
    "    custom_transform.RandomGaussianBluring(5, 1),\n",
    "    transforms.ToTensor(),\n",
    "    transforms.Normalize(mean=[0.485, 0.456, 0.406], std=[0.229, 0.224, 0.225])\n",
    "])\n",
    "\n",
    "dataset = FramePairsDataset(train_directory, '.npy', distance=15, transform=transform)\n",
    "\n",
    "sampler = VideoFrameSampler(len(dataset), frames_per_epoch, 100)\n",
    "\n",
    "data_loader = torch.utils.data.DataLoader(dataset, batch_size, sampler=sampler)"
   ]
  },
  {
   "cell_type": "code",
   "execution_count": 15,
   "metadata": {},
   "outputs": [],
   "source": [
    "val_dataset = FramePairsDataset(val_directory, '.npy', distance=15, transform=transform)\n",
    "val_sampler = VideoFrameSampler(len(val_dataset), 10, 100)\n",
    "val_loader = torch.utils.data.DataLoader(val_dataset, batch_size, sampler=val_sampler)"
   ]
  },
  {
   "cell_type": "markdown",
   "metadata": {},
   "source": [
    "### Model and Optimizer"
   ]
  },
  {
   "cell_type": "code",
   "execution_count": 19,
   "metadata": {},
   "outputs": [
    {
     "name": "stdout",
     "output_type": "stream",
     "text": [
      "Sequential(\n",
      "  (0): Conv2d(3, 10, kernel_size=(5, 5), stride=(1, 1))\n",
      "  (1): MaxPool2d(kernel_size=2, stride=2, padding=0, dilation=1, ceil_mode=False)\n",
      "  (2): ReLU()\n",
      "  (3): Conv2d(10, 20, kernel_size=(5, 5), stride=(1, 1))\n",
      "  (4): MaxPool2d(kernel_size=2, stride=2, padding=0, dilation=1, ceil_mode=False)\n",
      "  (5): ReLU()\n",
      "  (6): Flatten()\n",
      "  (7): Dropout(p=0.2, inplace=False)\n",
      "  (8): Linear(in_features=6480, out_features=200, bias=True)\n",
      "  (9): ReLU()\n",
      "  (10): Dropout(p=0.2, inplace=False)\n",
      "  (11): Linear(in_features=200, out_features=50, bias=True)\n",
      "  (12): ReLU()\n",
      "  (13): Linear(in_features=50, out_features=10, bias=True)\n",
      "  (14): ReLU()\n",
      "  (15): Linear(in_features=10, out_features=2, bias=True)\n",
      ")\n"
     ]
    }
   ],
   "source": [
    "from model.mnist_model import model\n",
    "from loss.npair_loss import NPairLoss\n",
    "\n",
    "print(model)\n",
    "model.to(device)\n",
    "\n",
    "optimizer = optim.Adam(model.parameters(), lr=0.001)\n",
    "scheduler = optim.lr_scheduler.StepLR(optimizer, step_size=10, gamma=0.1)\n",
    "criterion = NPairLoss(device, batch_size, .001)"
   ]
  },
  {
   "cell_type": "markdown",
   "metadata": {},
   "source": [
    "### Training the Network"
   ]
  },
  {
   "cell_type": "code",
   "execution_count": 20,
   "metadata": {},
   "outputs": [],
   "source": [
    "n_pairs_per_epoch = len(sampler)/batch_size\n",
    "def train(epoch):\n",
    "    model.train()\n",
    "    running_loss = 0.0\n",
    "    lr = optimizer.param_groups[0]['lr']\n",
    "    for batch_frames in data_loader:\n",
    "        optimizer.zero_grad()\n",
    "        anchors = batch_frames[0]\n",
    "        positives = batch_frames[1]\n",
    "        anchors, positives = anchors.to(device), positives.to(device)\n",
    "        r_anchors, r_positives = model(anchors), model(positives)\n",
    "        loss, accuracy = criterion(r_anchors, r_positives)\n",
    "        loss.backward()\n",
    "        optimizer.step()\n",
    "        running_loss += loss.item()\n",
    "    print(\"Epoch: %3d | Avg Loss: %f | LR : %.9f\" \n",
    "          % (epoch, running_loss/n_pairs_per_epoch, lr))\n",
    "    return running_loss\n",
    "\n",
    "\n",
    "def validation():\n",
    "    scheduler.step()\n",
    "    accuracy = 0.0\n",
    "    for batch_frames in val_loader:\n",
    "        with torch.no_grad():\n",
    "            anchors = batch_frames[0]\n",
    "            positives = batch_frames[1]\n",
    "            anchors, positives = anchors.to(device), positives.to(device)\n",
    "            r_anchors, r_positives = model(anchors), model(positives)\n",
    "            loss, acc = criterion(r_anchors, r_positives)\n",
    "            accuracy += acc\n",
    "    return accuracy\n",
    "\n",
    "model_file = 'mnist.pth'"
   ]
  },
  {
   "cell_type": "code",
   "execution_count": 21,
   "metadata": {},
   "outputs": [
    {
     "name": "stdout",
     "output_type": "stream",
     "text": [
      "Epoch:   0 | Avg Loss: 2.705599 | LR : 0.001000000\n",
      "Accuracy = 0.450000\n",
      "Saving model to mnist.pth. Accuracy = 0.450000.\n",
      "Epoch:   1 | Avg Loss: 2.603736 | LR : 0.001000000\n",
      "Accuracy = 1.100000\n",
      "Saving model to mnist.pth. Accuracy = 1.100000.\n",
      "Epoch:   2 | Avg Loss: 2.604353 | LR : 0.001000000\n",
      "Accuracy = 0.450000\n",
      "Epoch:   3 | Avg Loss: 2.493372 | LR : 0.001000000\n",
      "Accuracy = 1.100000\n",
      "Saving model to mnist.pth. Accuracy = 1.100000.\n",
      "Epoch:   4 | Avg Loss: 2.515096 | LR : 0.001000000\n",
      "Accuracy = 0.650000\n",
      "Epoch:   5 | Avg Loss: 2.404458 | LR : 0.001000000\n",
      "Accuracy = 1.150000\n",
      "Saving model to mnist.pth. Accuracy = 1.150000.\n",
      "Epoch:   6 | Avg Loss: 2.408203 | LR : 0.001000000\n",
      "Accuracy = 1.100000\n",
      "Epoch:   7 | Avg Loss: 2.222904 | LR : 0.001000000\n",
      "Accuracy = 0.600000\n",
      "Epoch:   8 | Avg Loss: 2.185315 | LR : 0.001000000\n",
      "Accuracy = 0.300000\n",
      "Epoch:   9 | Avg Loss: 2.060635 | LR : 0.001000000\n",
      "Accuracy = 0.550000\n",
      "Epoch:  10 | Avg Loss: 2.034607 | LR : 0.000100000\n",
      "Accuracy = 0.550000\n",
      "Epoch:  11 | Avg Loss: 1.912379 | LR : 0.000100000\n",
      "Accuracy = 0.650000\n",
      "Epoch:  12 | Avg Loss: 1.911809 | LR : 0.000100000\n",
      "Accuracy = 0.550000\n",
      "Epoch:  13 | Avg Loss: 1.946428 | LR : 0.000100000\n",
      "Accuracy = 1.700000\n",
      "Saving model to mnist.pth. Accuracy = 1.700000.\n",
      "Epoch:  14 | Avg Loss: 1.877133 | LR : 0.000100000\n",
      "Accuracy = 0.750000\n",
      "Epoch:  15 | Avg Loss: 1.908404 | LR : 0.000100000\n",
      "Accuracy = 0.150000\n",
      "Epoch:  16 | Avg Loss: 1.882893 | LR : 0.000100000\n",
      "Accuracy = 0.650000\n",
      "Epoch:  17 | Avg Loss: 1.878868 | LR : 0.000100000\n",
      "Accuracy = 0.450000\n",
      "Epoch:  18 | Avg Loss: 1.832905 | LR : 0.000100000\n",
      "Accuracy = 0.600000\n",
      "Epoch:  19 | Avg Loss: 1.797272 | LR : 0.000100000\n",
      "Accuracy = 0.700000\n"
     ]
    }
   ],
   "source": [
    "epochs = 20\n",
    "max_accuracy = 0\n",
    "train_losses = []\n",
    "test_accuracies = []\n",
    "\n",
    "for epoch in range(epochs):\n",
    "    train_losses.append(train(epoch))\n",
    "    accuracy = validation()\n",
    "    test_accuracies.append(accuracy)\n",
    "    print(\"Accuracy = %f\" %(accuracy))\n",
    "    if accuracy > max_accuracy:\n",
    "        max_accuracy = accuracy\n",
    "        print(\"Saving model to %s. Accuracy = %f.\" %(model_file, accuracy))\n",
    "        torch.save(model.state_dict(), model_file)"
   ]
  },
  {
   "cell_type": "code",
   "execution_count": 22,
   "metadata": {},
   "outputs": [
    {
     "data": {
      "text/plain": [
       "[<matplotlib.lines.Line2D at 0x7fc2e81d7518>]"
      ]
     },
     "execution_count": 22,
     "metadata": {},
     "output_type": "execute_result"
    },
    {
     "data": {
      "image/png": "[encoded data removed]",
      "text/plain": [
       "<Figure size 432x288 with 1 Axes>"
      ]
     },
     "metadata": {
      "needs_background": "light"
     },
     "output_type": "display_data"
    }
   ],
   "source": [
    "plt.plot(train_losses)"
   ]
  }
 ],
 "metadata": {
  "kernelspec": {
   "display_name": "Python 3",
   "language": "python",
   "name": "python3"
  },
  "language_info": {
   "codemirror_mode": {
    "name": "ipython",
    "version": 3
   },
   "file_extension": ".py",
   "mimetype": "text/x-python",
   "name": "python",
   "nbconvert_exporter": "python",
   "pygments_lexer": "ipython3",
   "version": "3.6.8"
  }
 },
 "nbformat": 4,
 "nbformat_minor": 2
}
