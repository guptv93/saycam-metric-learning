{
 "cells": [
  {
   "cell_type": "markdown",
   "metadata": {},
   "source": [
    "## Metric Learning"
   ]
  },
  {
   "cell_type": "code",
   "execution_count": 1,
   "metadata": {},
   "outputs": [
    {
     "name": "stdout",
     "output_type": "stream",
     "text": [
      "cuda:0\n"
     ]
    }
   ],
   "source": [
    "import os\n",
    "import os.path\n",
    "import sys\n",
    "from IPython.display import clear_output\n",
    "from time import sleep\n",
    "\n",
    "import numpy as np\n",
    "import matplotlib.pyplot as plt\n",
    "from random import randrange\n",
    "\n",
    "import torch\n",
    "import torch.nn.functional as F\n",
    "from torchvision import transforms, datasets, models\n",
    "from torch import nn, optim\n",
    "from torch.utils.data.sampler import Sampler\n",
    "\n",
    "device = torch.device(\"cuda:0\" if torch.cuda.is_available() else \"cpu\")\n",
    "print(device)"
   ]
  },
  {
   "cell_type": "code",
   "execution_count": 2,
   "metadata": {},
   "outputs": [],
   "source": [
    "from data_util.npair_dataset import FramePairsDataset\n",
    "from data_util.npair_sampler import VideoFrameSampler\n",
    "import data_util.simclr_transforms as custom_transform\n",
    "\n",
    "train_dir = '../data/mnist/mnist_png/training'\n",
    "val_dir = '../data/mnist/mnist_png/testing'\n",
    "\n",
    "batch_size = 10\n",
    "frames_per_epoch = 400\n",
    "\n",
    "transform = transforms.Compose([\n",
    "    transforms.ToTensor(),\n",
    "    transforms.Normalize((0.1307,), (0.3081,))\n",
    "])\n",
    "\n",
    "dataset = FramePairsDataset(train_dir, '.png', distance=15, transform=transform)\n",
    "sampler = VideoFrameSampler(len(dataset), frames_per_epoch, 6000)\n",
    "data_loader = torch.utils.data.DataLoader(dataset, batch_size, sampler=sampler)"
   ]
  },
  {
   "cell_type": "code",
   "execution_count": 3,
   "metadata": {},
   "outputs": [],
   "source": [
    "val_dataset = FramePairsDataset(val_dir, '.png', distance=15, transform=transform)\n",
    "val_sampler = VideoFrameSampler(len(val_dataset), 100, 1000)\n",
    "val_loader = torch.utils.data.DataLoader(val_dataset, batch_size, sampler=val_sampler)"
   ]
  },
  {
   "cell_type": "markdown",
   "metadata": {},
   "source": [
    "### Model and Optimizer"
   ]
  },
  {
   "cell_type": "code",
   "execution_count": 5,
   "metadata": {},
   "outputs": [
    {
     "name": "stdout",
     "output_type": "stream",
     "text": [
      "NetWithoutBatchNorm(\n",
      "  (conv1): Conv2d(1, 20, kernel_size=(5, 5), stride=(1, 1))\n",
      "  (conv2): Conv2d(20, 50, kernel_size=(5, 5), stride=(1, 1))\n",
      "  (fc1): Linear(in_features=800, out_features=500, bias=True)\n",
      "  (fc2): Linear(in_features=500, out_features=10, bias=True)\n",
      "  (g): Linear(in_features=10, out_features=3, bias=True)\n",
      ")\n"
     ]
    }
   ],
   "source": [
    "from model.mnist_model import NetWithoutBatchNorm\n",
    "from loss.npair_loss import NPairLoss\n",
    "\n",
    "model = NetWithoutBatchNorm()\n",
    "print(model)\n",
    "model.to(device)\n",
    "\n",
    "optimizer = optim.Adam(model.parameters(), lr=0.001)\n",
    "scheduler = optim.lr_scheduler.MultiStepLR(optimizer, milestones=[5, 10, 15], gamma=0.1)\n",
    "criterion = NPairLoss(device, batch_size, .001)"
   ]
  },
  {
   "cell_type": "markdown",
   "metadata": {},
   "source": [
    "### Training the Network"
   ]
  },
  {
   "cell_type": "code",
   "execution_count": 6,
   "metadata": {},
   "outputs": [],
   "source": [
    "n_pairs_per_epoch = len(sampler)/batch_size\n",
    "def train(epoch):\n",
    "    model.train()\n",
    "    running_loss = 0.0\n",
    "    lr = optimizer.param_groups[0]['lr']\n",
    "    for batch_frames in data_loader:\n",
    "        optimizer.zero_grad()\n",
    "        anchors = batch_frames[0]\n",
    "        positives = batch_frames[1]\n",
    "        anchors, positives = anchors.to(device), positives.to(device)\n",
    "        r_anchors, r_positives = model(anchors), model(positives)\n",
    "        loss, accuracy = criterion(r_anchors, r_positives)\n",
    "        loss.backward()\n",
    "        optimizer.step()\n",
    "        running_loss += loss.item()\n",
    "    print(\"Epoch: %3d | Avg Loss: %f | LR : %.9f\" \n",
    "          % (epoch, running_loss/n_pairs_per_epoch, lr))\n",
    "    return running_loss\n",
    "\n",
    "\n",
    "def validation():\n",
    "    scheduler.step()\n",
    "    accuracy = 0.0\n",
    "    for batch_frames in val_loader:\n",
    "        with torch.no_grad():\n",
    "            anchors = batch_frames[0]\n",
    "            positives = batch_frames[1]\n",
    "            anchors, positives = anchors.to(device), positives.to(device)\n",
    "            r_anchors, r_positives = model(anchors), model(positives)\n",
    "            loss, acc = criterion(r_anchors, r_positives)\n",
    "            accuracy += acc\n",
    "    return accuracy\n",
    "\n",
    "model_file = 'mnist.pth'"
   ]
  },
  {
   "cell_type": "code",
   "execution_count": 7,
   "metadata": {},
   "outputs": [
    {
     "name": "stdout",
     "output_type": "stream",
     "text": [
      "Epoch:   0 | Avg Loss: 1.936302 | LR : 0.001000000\n",
      "Accuracy = 56.649990\n",
      "Saving model to mnist.pth. Accuracy = 56.649990.\n",
      "Epoch:   1 | Avg Loss: 1.301543 | LR : 0.001000000\n",
      "Accuracy = 72.100014\n",
      "Saving model to mnist.pth. Accuracy = 72.100014.\n",
      "Epoch:   2 | Avg Loss: 0.942612 | LR : 0.001000000\n",
      "Accuracy = 77.500008\n",
      "Saving model to mnist.pth. Accuracy = 77.500008.\n",
      "Epoch:   3 | Avg Loss: 0.675447 | LR : 0.001000000\n",
      "Accuracy = 86.649994\n",
      "Saving model to mnist.pth. Accuracy = 86.649994.\n",
      "Epoch:   4 | Avg Loss: 0.526096 | LR : 0.001000000\n",
      "Accuracy = 88.850006\n",
      "Saving model to mnist.pth. Accuracy = 88.850006.\n",
      "Epoch:   5 | Avg Loss: 0.391044 | LR : 0.000100000\n",
      "Accuracy = 91.499992\n",
      "Saving model to mnist.pth. Accuracy = 91.499992.\n",
      "Epoch:   6 | Avg Loss: 0.329699 | LR : 0.000100000\n",
      "Accuracy = 92.849998\n",
      "Saving model to mnist.pth. Accuracy = 92.849998.\n",
      "Epoch:   7 | Avg Loss: 0.275683 | LR : 0.000100000\n",
      "Accuracy = 94.499962\n",
      "Saving model to mnist.pth. Accuracy = 94.499962.\n",
      "Epoch:   8 | Avg Loss: 0.296766 | LR : 0.000100000\n",
      "Accuracy = 94.399986\n",
      "Epoch:   9 | Avg Loss: 0.277668 | LR : 0.000100000\n",
      "Accuracy = 94.099983\n",
      "Epoch:  10 | Avg Loss: 0.231689 | LR : 0.000010000\n",
      "Accuracy = 95.200005\n",
      "Saving model to mnist.pth. Accuracy = 95.200005.\n",
      "Epoch:  11 | Avg Loss: 0.236638 | LR : 0.000010000\n",
      "Accuracy = 93.549995\n",
      "Epoch:  12 | Avg Loss: 0.256175 | LR : 0.000010000\n",
      "Accuracy = 95.150002\n",
      "Epoch:  13 | Avg Loss: 0.277563 | LR : 0.000010000\n",
      "Accuracy = 93.449997\n",
      "Epoch:  14 | Avg Loss: 0.245683 | LR : 0.000010000\n",
      "Accuracy = 95.549995\n",
      "Saving model to mnist.pth. Accuracy = 95.549995.\n",
      "Epoch:  15 | Avg Loss: 0.250972 | LR : 0.000001000\n",
      "Accuracy = 94.299995\n",
      "Epoch:  16 | Avg Loss: 0.229066 | LR : 0.000001000\n",
      "Accuracy = 95.149986\n",
      "Epoch:  17 | Avg Loss: 0.253915 | LR : 0.000001000\n",
      "Accuracy = 95.799995\n",
      "Saving model to mnist.pth. Accuracy = 95.799995.\n",
      "Epoch:  18 | Avg Loss: 0.214388 | LR : 0.000001000\n",
      "Accuracy = 94.999985\n",
      "Epoch:  19 | Avg Loss: 0.248992 | LR : 0.000001000\n",
      "Accuracy = 94.400002\n",
      "Epoch:  20 | Avg Loss: 0.256061 | LR : 0.000001000\n",
      "Accuracy = 94.899994\n",
      "Epoch:  21 | Avg Loss: 0.233510 | LR : 0.000001000\n",
      "Accuracy = 94.000000\n",
      "Epoch:  22 | Avg Loss: 0.232282 | LR : 0.000001000\n",
      "Accuracy = 94.350014\n",
      "Epoch:  23 | Avg Loss: 0.225160 | LR : 0.000001000\n",
      "Accuracy = 94.650009\n",
      "Epoch:  24 | Avg Loss: 0.226872 | LR : 0.000001000\n",
      "Accuracy = 93.549995\n"
     ]
    }
   ],
   "source": [
    "epochs = 25\n",
    "max_accuracy = 0\n",
    "train_losses = []\n",
    "test_accuracies = []\n",
    "\n",
    "for epoch in range(epochs):\n",
    "    train_losses.append(train(epoch))\n",
    "    accuracy = validation()\n",
    "    test_accuracies.append(accuracy)\n",
    "    print(\"Accuracy = %f\" %(accuracy))\n",
    "    if accuracy > max_accuracy:\n",
    "        max_accuracy = accuracy\n",
    "        print(\"Saving model to %s. Accuracy = %f.\" %(model_file, accuracy))\n",
    "        torch.save(model.state_dict(), model_file)"
   ]
  },
  {
   "cell_type": "code",
   "execution_count": 8,
   "metadata": {},
   "outputs": [
    {
     "data": {
      "image/png": "[encoded data removed]",
      "text/plain": [
       "<Figure size 432x288 with 1 Axes>"
      ]
     },
     "metadata": {
      "needs_background": "light"
     },
     "output_type": "display_data"
    },
    {
     "data": {
      "image/png": "[encoded data removed]",
      "text/plain": [
       "<Figure size 432x288 with 1 Axes>"
      ]
     },
     "metadata": {
      "needs_background": "light"
     },
     "output_type": "display_data"
    }
   ],
   "source": [
    "plt.plot(train_losses)\n",
    "plt.show()\n",
    "plt.plot(test_accuracies)\n",
    "plt.show()"
   ]
  },
  {
   "cell_type": "markdown",
   "metadata": {},
   "source": [
    "## Visualization"
   ]
  },
  {
   "cell_type": "markdown",
   "metadata": {},
   "source": [
    "### Create Model and Load Weights"
   ]
  },
  {
   "cell_type": "code",
   "execution_count": null,
   "metadata": {},
   "outputs": [],
   "source": [
    "from model.mnist_model import NetWithoutBatchNorm\n",
    "model = NetWithoutBatchNorm()\n",
    "# Load weigths from the model trained on upstream task\n",
    "model_file = './mnist.pth'\n",
    "state_dict = torch.load(model_file)\n",
    "model.load_state_dict(state_dict)\n",
    "\n",
    "# Decide whether to freeze or finetune the model\n",
    "for param in model.parameters():\n",
    "    param.requires_grad = False\n",
    "\n",
    "model.to(device)\n",
    "print(model)\n",
    "\n",
    "criterion = nn.CrossEntropyLoss()\n",
    "optimizer = optim.Adam(model.parameters(), lr=0.001)\n",
    "scheduler = optim.lr_scheduler.StepLR(optimizer, step_size=70, gamma=0.1)"
   ]
  },
  {
   "cell_type": "code",
   "execution_count": null,
   "metadata": {},
   "outputs": [],
   "source": [
    "val_loader = torch.utils.data.DataLoader(val_dataset, batch_size, sampler=val_sampler)"
   ]
  }
 ],
 "metadata": {
  "kernelspec": {
   "display_name": "Python 3",
   "language": "python",
   "name": "python3"
  },
  "language_info": {
   "codemirror_mode": {
    "name": "ipython",
    "version": 3
   },
   "file_extension": ".py",
   "mimetype": "text/x-python",
   "name": "python",
   "nbconvert_exporter": "python",
   "pygments_lexer": "ipython3",
   "version": "3.6.8"
  }
 },
 "nbformat": 4,
 "nbformat_minor": 2
}
