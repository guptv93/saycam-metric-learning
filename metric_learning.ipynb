{
 "cells": [
  {
   "cell_type": "markdown",
   "metadata": {},
   "source": [
    "# Metric Learning on Video Frames using N-Pair Loss"
   ]
  },
  {
   "cell_type": "markdown",
   "metadata": {},
   "source": [
    "### Import Libraries and Check GPU"
   ]
  },
  {
   "cell_type": "code",
   "execution_count": 1,
   "metadata": {},
   "outputs": [
    {
     "name": "stdout",
     "output_type": "stream",
     "text": [
      "cuda:0\n"
     ]
    }
   ],
   "source": [
    "import torch\n",
    "from torchvision import transforms, datasets, models\n",
    "from torch import nn, optim\n",
    "import numpy as np\n",
    "import matplotlib.pyplot as plt\n",
    "import os\n",
    "import torch.nn.functional as F\n",
    "from IPython.display import clear_output\n",
    "from time import sleep\n",
    "\n",
    "device = torch.device(\"cuda:0\" if torch.cuda.is_available() else \"cpu\")\n",
    "print(device)"
   ]
  },
  {
   "cell_type": "markdown",
   "metadata": {},
   "source": [
    "### Directory Setup for PyTorch DatasetFolder"
   ]
  },
  {
   "cell_type": "code",
   "execution_count": 2,
   "metadata": {},
   "outputs": [],
   "source": [
    "directory = ['/scratch/vvg239/headcam/frames', '/scratch/vvg239/headcam/moving_mnist/mm_folder']\n",
    "\n",
    "def folder_setup(dir_name):\n",
    "    \"\"\"One Time Directory Setup for DatasetFolder\"\"\"\n",
    "    file_list = os.listdir(dir_name)\n",
    "    for file in file_list:\n",
    "        fdr = dir_name + file[6:-4]\n",
    "        os.mkdir(fdr, mode = 0o700)\n",
    "        os.rename(dir_name + file, fdr + \"/\" + file)\n",
    "        \n",
    "#folder_setup(directory[1])"
   ]
  },
  {
   "cell_type": "markdown",
   "metadata": {},
   "source": [
    "### Moving MNIST / Saycam Visualization"
   ]
  },
  {
   "cell_type": "code",
   "execution_count": 3,
   "metadata": {},
   "outputs": [
    {
     "data": {
      "image/png": "[encoded data removed]",
      "text/plain": [
       "<Figure size 432x288 with 1 Axes>"
      ]
     },
     "metadata": {
      "needs_background": "light"
     },
     "output_type": "display_data"
    }
   ],
   "source": [
    "use_moving_mnist = True\n",
    "\n",
    "filepath = ['frames/0/video_0.npy', 'moving_mnist/mm_folder/0/np_0.npy']\n",
    "frames = np.load(filepath[use_moving_mnist])\n",
    "print(frames.shape)\n",
    "\n",
    "def plot_videoframes(frames):\n",
    "    for i in range(min(frames.shape[0], 40)):\n",
    "        plt.imshow(frames[i, :, :, :], interpolation='nearest')\n",
    "        plt.show()\n",
    "        sleep(0.01)\n",
    "        clear_output(wait=True)\n",
    "\n",
    "    plt.close()\n",
    "\n",
    "plot_videoframes(frames)"
   ]
  },
  {
   "cell_type": "markdown",
   "metadata": {},
   "source": [
    "### Setting up PyTorch DataLoader"
   ]
  },
  {
   "cell_type": "code",
   "execution_count": 4,
   "metadata": {},
   "outputs": [
    {
     "name": "stderr",
     "output_type": "stream",
     "text": [
      "Clipping input data to the valid range for imshow with RGB data ([0..1] for floats or [0..255] for integers).\n",
      "Clipping input data to the valid range for imshow with RGB data ([0..1] for floats or [0..255] for integers).\n"
     ]
    },
    {
     "data": {
      "image/png": "[encoded data removed]",
      "text/plain": [
       "<Figure size 432x288 with 2 Axes>"
      ]
     },
     "metadata": {
      "needs_background": "light"
     },
     "output_type": "display_data"
    }
   ],
   "source": [
    "class NpyVideoFolder(datasets.DatasetFolder):\n",
    "    \n",
    "    def __init__(self, root, transform=None, distance=5, max_distance=15, update_after=0):\n",
    "        super().__init__(root, loader=self.default_loader, transform=None, extensions='.npy')\n",
    "        self.counter = 0\n",
    "        self.distance = distance\n",
    "        self.max_distance = max_distance\n",
    "        self.update_after = update_after\n",
    "        self.preprocess = transform\n",
    "    \n",
    "    def default_loader(self, path):\n",
    "        \"\"\"Load Numpy Files into PyTorch Dataset. Returns array of the form 2x3xWxH (as used in PyTorch)\"\"\"\n",
    "        self.counter += 1\n",
    "        if(self.counter == self.update_after):\n",
    "            self.counter = 0\n",
    "            self.distance += 1\n",
    "            self.distance = min(self.distance, self.max_distance)\n",
    "            print(\"Distance Updated to %d!!\" % self.distance)\n",
    "        samples = torch.from_numpy(np.load(path))\n",
    "        x = np.random.randint(samples.shape[0]-self.distance)\n",
    "        sample_a = self.preprocess(samples[x].permute(2,0,1))\n",
    "        sample_p = self.preprocess(samples[x + self.distance].permute(2,0,1))\n",
    "        return torch.stack([sample_a,sample_p],dim=0)\n",
    "\n",
    "## Frame Visualization Helper\n",
    "def viz_helper(data_loader, num_vid):\n",
    "    batch, _ = iter(data_loader).next()\n",
    "    video_frames = batch[num_vid]\n",
    "    video_frames = video_frames.permute(0,2,3,1)\n",
    "    fig, (ax1, ax2) = plt.subplots(nrows=1, ncols=2)\n",
    "    ax1.imshow(video_frames[0])\n",
    "    ax2.imshow(video_frames[1])\n",
    "    \n",
    "transform = transforms.Compose([transforms.ToPILImage(), \n",
    "                                transforms.Resize(224), \n",
    "                                transforms.ToTensor(),\n",
    "                                transforms.Normalize((0.485, 0.456, 0.406), (0.229, 0.224, 0.225))])\n",
    "\n",
    "dataset = NpyVideoFolder(root=directory[use_moving_mnist], transform=transform, distance=5, max_distance=20, update_after=3000)\n",
    "data_loader = torch.utils.data.DataLoader(dataset, batch_size=30, shuffle=True, num_workers=0)\n",
    "viz_helper(data_loader, 2)"
   ]
  },
  {
   "cell_type": "markdown",
   "metadata": {},
   "source": [
    "### Setting the Network and N-Pair Loss Function"
   ]
  },
  {
   "cell_type": "code",
   "execution_count": 5,
   "metadata": {},
   "outputs": [
    {
     "name": "stdout",
     "output_type": "stream",
     "text": [
      "tensor(-2.8974e-05, grad_fn=<MeanBackward0>)\n"
     ]
    }
   ],
   "source": [
    "model = models.alexnet()\n",
    "classifier = nn.Sequential(#nn.Dropout(0.1),\n",
    "                           nn.Linear(9216,4096),\n",
    "                           nn.ReLU(inplace=True),\n",
    "                           #nn.Dropout(0.1),\n",
    "                           nn.Linear(4096,10))\n",
    "model.classifier = classifier\n",
    "print(torch.mean(model.features[8].weight))\n",
    "\n",
    "# model = models.resnet50()\n",
    "# model.fc = nn.Linear(2048,100)\n",
    "# print(model)\n",
    "\n",
    "model.to(device)\n",
    "\n",
    "optimizer = optim.Adam(model.parameters(), lr=0.0001)\n",
    "scheduler = optim.lr_scheduler.StepLR(optimizer, step_size=100, gamma=0.1)\n",
    "\n",
    "\n",
    "def minibatch_n_pair_loss(batch):\n",
    "    loss = 0.0\n",
    "    N = batch.shape[0]//2\n",
    "    for i in range(N):\n",
    "        negative_samples = torch.cat((batch[N:N+i], batch[N+i+1:]),dim=0)\n",
    "        loss += n_pair_loss(batch[i], batch[N+i], negative_samples) #+ n_pair_loss(batch[N+i], batch[i], negative_samples)\n",
    "    return loss/N\n",
    "\n",
    "def n_pair_loss(anchor, positive, negatives):\n",
    "    #sim_pos = F.cosine_similarity(positive.unsqueeze(0), anchor.unsqueeze(0), dim=1)\n",
    "    #sim_negs = F.cosine_similarity(negatives, anchor.repeat(negatives.shape[0],1), dim=1)\n",
    "    #logits = torch.cat((sim_pos,sim_negs)).unsqueeze(0)\n",
    "    n_pair = torch.cat((positive.unsqueeze(0), negatives))\n",
    "    sims = F.cosine_similarity(n_pair, anchor.repeat(n_pair.shape[0], 1), dim=1)\n",
    "    logits = sims.unsqueeze(0)\n",
    "    labels = torch.zeros(1).to(device, dtype=torch.long)\n",
    "    ret = F.cross_entropy(logits, labels)\n",
    "    return ret"
   ]
  },
  {
   "cell_type": "markdown",
   "metadata": {},
   "source": [
    "### Training the Network"
   ]
  },
  {
   "cell_type": "code",
   "execution_count": null,
   "metadata": {},
   "outputs": [],
   "source": [
    "###### Single Run Training ######\n",
    "model.train()\n",
    "batch_frames, _ = iter(data_loader).next()\n",
    "optimizer.zero_grad()\n",
    "x = batch_frames[:,0]\n",
    "y = batch_frames[:,1]\n",
    "minibatch = torch.cat((x,y),dim=0)\n",
    "minibatch = minibatch.to(device)\n",
    "minibatch = model(minibatch)\n",
    "loss = minibatch_n_pair_loss(minibatch)\n",
    "loss.backward()\n",
    "optimizer.step()"
   ]
  },
  {
   "cell_type": "code",
   "execution_count": 6,
   "metadata": {},
   "outputs": [
    {
     "name": "stdout",
     "output_type": "stream",
     "text": [
      "Epoch:   0 | Running Loss: 16.174002 | LR: 0.000100000\n",
      "Distance Updated to 6!!\n",
      "Epoch:   1 | Running Loss: 15.359880 | LR: 0.000100000\n",
      "Epoch:   2 | Running Loss: 15.094219 | LR: 0.000100000\n",
      "Distance Updated to 7!!\n",
      "Epoch:   3 | Running Loss: 14.954868 | LR: 0.000100000\n",
      "Epoch:   4 | Running Loss: 14.502314 | LR: 0.000100000\n",
      "Distance Updated to 8!!\n",
      "Epoch:   5 | Running Loss: 14.073442 | LR: 0.000100000\n",
      "Epoch:   6 | Running Loss: 14.186512 | LR: 0.000100000\n",
      "Distance Updated to 9!!\n",
      "Epoch:   7 | Running Loss: 14.426297 | LR: 0.000100000\n",
      "Epoch:   8 | Running Loss: 14.184960 | LR: 0.000100000\n",
      "Distance Updated to 10!!\n",
      "Epoch:   9 | Running Loss: 14.443391 | LR: 0.000100000\n",
      "Epoch:  10 | Running Loss: 14.368152 | LR: 0.000100000\n",
      "Distance Updated to 11!!\n",
      "Epoch:  11 | Running Loss: 14.211472 | LR: 0.000100000\n",
      "Epoch:  12 | Running Loss: 14.109494 | LR: 0.000100000\n",
      "Distance Updated to 12!!\n",
      "Epoch:  13 | Running Loss: 13.932379 | LR: 0.000100000\n",
      "Epoch:  14 | Running Loss: 13.701602 | LR: 0.000100000\n",
      "Distance Updated to 13!!\n",
      "Epoch:  15 | Running Loss: 13.760348 | LR: 0.000100000\n",
      "Epoch:  16 | Running Loss: 13.522147 | LR: 0.000100000\n",
      "Distance Updated to 14!!\n",
      "Epoch:  17 | Running Loss: 13.692906 | LR: 0.000100000\n",
      "Epoch:  18 | Running Loss: 13.469268 | LR: 0.000100000\n",
      "Distance Updated to 15!!\n",
      "Epoch:  19 | Running Loss: 13.472970 | LR: 0.000100000\n",
      "Epoch:  20 | Running Loss: 13.438126 | LR: 0.000100000\n",
      "Distance Updated to 16!!\n",
      "Epoch:  21 | Running Loss: 13.656391 | LR: 0.000100000\n",
      "Epoch:  22 | Running Loss: 13.667093 | LR: 0.000100000\n",
      "Distance Updated to 17!!\n",
      "Epoch:  23 | Running Loss: 13.542898 | LR: 0.000100000\n",
      "Epoch:  24 | Running Loss: 13.580018 | LR: 0.000100000\n",
      "Distance Updated to 18!!\n",
      "Epoch:  25 | Running Loss: 13.464789 | LR: 0.000100000\n",
      "Epoch:  26 | Running Loss: 13.396345 | LR: 0.000100000\n",
      "Distance Updated to 19!!\n",
      "Epoch:  27 | Running Loss: 13.395983 | LR: 0.000100000\n",
      "Epoch:  28 | Running Loss: 13.397573 | LR: 0.000100000\n",
      "Distance Updated to 20!!\n",
      "Epoch:  29 | Running Loss: 13.593541 | LR: 0.000100000\n",
      "Epoch:  30 | Running Loss: 13.403801 | LR: 0.000100000\n",
      "Distance Updated to 20!!\n",
      "Epoch:  31 | Running Loss: 13.364277 | LR: 0.000100000\n",
      "Epoch:  32 | Running Loss: 13.337759 | LR: 0.000100000\n",
      "Distance Updated to 20!!\n",
      "Epoch:  33 | Running Loss: 13.451652 | LR: 0.000100000\n",
      "Epoch:  34 | Running Loss: 13.403073 | LR: 0.000100000\n",
      "Distance Updated to 20!!\n",
      "Epoch:  35 | Running Loss: 13.436554 | LR: 0.000100000\n",
      "Epoch:  36 | Running Loss: 13.369615 | LR: 0.000100000\n",
      "Distance Updated to 20!!\n",
      "Epoch:  37 | Running Loss: 13.479179 | LR: 0.000100000\n",
      "Epoch:  38 | Running Loss: 13.389463 | LR: 0.000100000\n",
      "Distance Updated to 20!!\n",
      "Epoch:  39 | Running Loss: 13.337331 | LR: 0.000100000\n",
      "Epoch:  40 | Running Loss: 13.349113 | LR: 0.000100000\n",
      "Distance Updated to 20!!\n",
      "Epoch:  41 | Running Loss: 13.264372 | LR: 0.000100000\n",
      "Epoch:  42 | Running Loss: 13.260409 | LR: 0.000100000\n",
      "Distance Updated to 20!!\n",
      "Epoch:  43 | Running Loss: 13.210442 | LR: 0.000100000\n",
      "Epoch:  44 | Running Loss: 13.209801 | LR: 0.000100000\n",
      "Distance Updated to 20!!\n",
      "Epoch:  45 | Running Loss: 13.184598 | LR: 0.000100000\n",
      "Epoch:  46 | Running Loss: 13.090128 | LR: 0.000100000\n",
      "Distance Updated to 20!!\n",
      "Epoch:  47 | Running Loss: 13.173479 | LR: 0.000100000\n",
      "Epoch:  48 | Running Loss: 13.345427 | LR: 0.000100000\n",
      "Distance Updated to 20!!\n",
      "Epoch:  49 | Running Loss: 13.166790 | LR: 0.000100000\n",
      "Epoch:  50 | Running Loss: 13.246382 | LR: 0.000100000\n",
      "Distance Updated to 20!!\n",
      "Epoch:  51 | Running Loss: 13.136840 | LR: 0.000100000\n",
      "Epoch:  52 | Running Loss: 13.081523 | LR: 0.000100000\n",
      "Distance Updated to 20!!\n",
      "Epoch:  53 | Running Loss: 13.032298 | LR: 0.000100000\n",
      "Epoch:  54 | Running Loss: 13.189740 | LR: 0.000100000\n",
      "Distance Updated to 20!!\n",
      "Epoch:  55 | Running Loss: 13.159173 | LR: 0.000100000\n",
      "Epoch:  56 | Running Loss: 13.092691 | LR: 0.000100000\n",
      "Distance Updated to 20!!\n",
      "Epoch:  57 | Running Loss: 13.142282 | LR: 0.000100000\n",
      "Epoch:  58 | Running Loss: 13.190795 | LR: 0.000100000\n",
      "Distance Updated to 20!!\n",
      "Epoch:  59 | Running Loss: 13.255791 | LR: 0.000100000\n",
      "Epoch:  60 | Running Loss: 13.047857 | LR: 0.000100000\n",
      "Distance Updated to 20!!\n",
      "Epoch:  61 | Running Loss: 13.146542 | LR: 0.000100000\n",
      "Epoch:  62 | Running Loss: 13.168557 | LR: 0.000100000\n",
      "Distance Updated to 20!!\n",
      "Epoch:  63 | Running Loss: 13.160974 | LR: 0.000100000\n",
      "Epoch:  64 | Running Loss: 13.181408 | LR: 0.000100000\n",
      "Distance Updated to 20!!\n",
      "Epoch:  65 | Running Loss: 13.135560 | LR: 0.000100000\n",
      "Epoch:  66 | Running Loss: 13.039681 | LR: 0.000100000\n",
      "Distance Updated to 20!!\n",
      "Epoch:  67 | Running Loss: 13.158390 | LR: 0.000100000\n",
      "Epoch:  68 | Running Loss: 13.001707 | LR: 0.000100000\n",
      "Distance Updated to 20!!\n",
      "Epoch:  69 | Running Loss: 13.085659 | LR: 0.000100000\n",
      "Epoch:  70 | Running Loss: 13.158710 | LR: 0.000100000\n",
      "Distance Updated to 20!!\n",
      "Epoch:  71 | Running Loss: 13.065046 | LR: 0.000100000\n",
      "Epoch:  72 | Running Loss: 13.174160 | LR: 0.000100000\n",
      "Distance Updated to 20!!\n",
      "Epoch:  73 | Running Loss: 13.149535 | LR: 0.000100000\n",
      "Epoch:  74 | Running Loss: 13.221413 | LR: 0.000100000\n",
      "Distance Updated to 20!!\n",
      "Epoch:  75 | Running Loss: 13.064614 | LR: 0.000100000\n",
      "Epoch:  76 | Running Loss: 13.195277 | LR: 0.000100000\n",
      "Distance Updated to 20!!\n",
      "Epoch:  77 | Running Loss: 13.087068 | LR: 0.000100000\n",
      "Epoch:  78 | Running Loss: 13.058295 | LR: 0.000100000\n",
      "Distance Updated to 20!!\n",
      "Epoch:  79 | Running Loss: 12.965006 | LR: 0.000100000\n",
      "Epoch:  80 | Running Loss: 13.023524 | LR: 0.000100000\n",
      "Distance Updated to 20!!\n",
      "Epoch:  81 | Running Loss: 13.016738 | LR: 0.000100000\n",
      "Epoch:  82 | Running Loss: 13.192144 | LR: 0.000100000\n",
      "Distance Updated to 20!!\n",
      "Epoch:  83 | Running Loss: 13.012891 | LR: 0.000100000\n",
      "Epoch:  84 | Running Loss: 13.030762 | LR: 0.000100000\n",
      "Distance Updated to 20!!\n",
      "Epoch:  85 | Running Loss: 13.042501 | LR: 0.000100000\n",
      "Epoch:  86 | Running Loss: 12.971915 | LR: 0.000100000\n",
      "Distance Updated to 20!!\n",
      "Epoch:  87 | Running Loss: 12.915443 | LR: 0.000100000\n",
      "Epoch:  88 | Running Loss: 12.898985 | LR: 0.000100000\n",
      "Distance Updated to 20!!\n",
      "Epoch:  89 | Running Loss: 13.011752 | LR: 0.000100000\n",
      "Epoch:  90 | Running Loss: 12.955461 | LR: 0.000100000\n",
      "Distance Updated to 20!!\n",
      "Epoch:  91 | Running Loss: 12.951468 | LR: 0.000100000\n",
      "Epoch:  92 | Running Loss: 12.962637 | LR: 0.000100000\n",
      "Distance Updated to 20!!\n",
      "Epoch:  93 | Running Loss: 12.943781 | LR: 0.000100000\n",
      "Epoch:  94 | Running Loss: 12.966747 | LR: 0.000100000\n",
      "Distance Updated to 20!!\n",
      "Epoch:  95 | Running Loss: 12.833210 | LR: 0.000100000\n",
      "Epoch:  96 | Running Loss: 12.888897 | LR: 0.000100000\n",
      "Distance Updated to 20!!\n",
      "Epoch:  97 | Running Loss: 13.036896 | LR: 0.000100000\n",
      "Epoch:  98 | Running Loss: 12.911069 | LR: 0.000100000\n",
      "Distance Updated to 20!!\n",
      "Epoch:  99 | Running Loss: 13.000802 | LR: 0.000010000\n",
      "Epoch: 100 | Running Loss: 12.998028 | LR: 0.000010000\n",
      "Distance Updated to 20!!\n",
      "Epoch: 101 | Running Loss: 12.920124 | LR: 0.000010000\n",
      "Epoch: 102 | Running Loss: 12.903150 | LR: 0.000010000\n",
      "Distance Updated to 20!!\n",
      "Epoch: 103 | Running Loss: 12.823946 | LR: 0.000010000\n",
      "Epoch: 104 | Running Loss: 12.873693 | LR: 0.000010000\n",
      "Distance Updated to 20!!\n",
      "Epoch: 105 | Running Loss: 12.934978 | LR: 0.000010000\n",
      "Epoch: 106 | Running Loss: 12.828988 | LR: 0.000010000\n",
      "Distance Updated to 20!!\n",
      "Epoch: 107 | Running Loss: 12.886131 | LR: 0.000010000\n",
      "Epoch: 108 | Running Loss: 12.936172 | LR: 0.000010000\n",
      "Distance Updated to 20!!\n",
      "Epoch: 109 | Running Loss: 12.852453 | LR: 0.000010000\n",
      "Epoch: 110 | Running Loss: 12.839856 | LR: 0.000010000\n",
      "Distance Updated to 20!!\n",
      "Epoch: 111 | Running Loss: 12.875111 | LR: 0.000010000\n",
      "Epoch: 112 | Running Loss: 12.857410 | LR: 0.000010000\n",
      "Distance Updated to 20!!\n",
      "Epoch: 113 | Running Loss: 12.826613 | LR: 0.000010000\n",
      "Epoch: 114 | Running Loss: 12.933982 | LR: 0.000010000\n",
      "Distance Updated to 20!!\n",
      "Epoch: 115 | Running Loss: 12.946110 | LR: 0.000010000\n",
      "Epoch: 116 | Running Loss: 12.972062 | LR: 0.000010000\n",
      "Distance Updated to 20!!\n",
      "Epoch: 117 | Running Loss: 12.842294 | LR: 0.000010000\n",
      "Epoch: 118 | Running Loss: 12.848989 | LR: 0.000010000\n",
      "Distance Updated to 20!!\n",
      "Epoch: 119 | Running Loss: 12.900367 | LR: 0.000010000\n",
      "Epoch: 120 | Running Loss: 12.874813 | LR: 0.000010000\n",
      "Distance Updated to 20!!\n",
      "Epoch: 121 | Running Loss: 12.865448 | LR: 0.000010000\n"
     ]
    },
    {
     "name": "stdout",
     "output_type": "stream",
     "text": [
      "Epoch: 122 | Running Loss: 12.928986 | LR: 0.000010000\n",
      "Distance Updated to 20!!\n",
      "Epoch: 123 | Running Loss: 12.830965 | LR: 0.000010000\n",
      "Epoch: 124 | Running Loss: 12.953856 | LR: 0.000010000\n",
      "Distance Updated to 20!!\n",
      "Epoch: 125 | Running Loss: 12.970655 | LR: 0.000010000\n",
      "Epoch: 126 | Running Loss: 12.853851 | LR: 0.000010000\n",
      "Distance Updated to 20!!\n",
      "Epoch: 127 | Running Loss: 12.844937 | LR: 0.000010000\n",
      "Epoch: 128 | Running Loss: 12.881278 | LR: 0.000010000\n",
      "Distance Updated to 20!!\n",
      "Epoch: 129 | Running Loss: 12.932003 | LR: 0.000010000\n",
      "Epoch: 130 | Running Loss: 12.802006 | LR: 0.000010000\n",
      "Distance Updated to 20!!\n",
      "Epoch: 131 | Running Loss: 12.937062 | LR: 0.000010000\n",
      "Epoch: 132 | Running Loss: 12.954749 | LR: 0.000010000\n",
      "Distance Updated to 20!!\n",
      "Epoch: 133 | Running Loss: 12.802821 | LR: 0.000010000\n"
     ]
    },
    {
     "ename": "KeyboardInterrupt",
     "evalue": "",
     "output_type": "error",
     "traceback": [
      "\u001b[0;31m---------------------------------------------------------------------------\u001b[0m",
      "\u001b[0;31mKeyboardInterrupt\u001b[0m                         Traceback (most recent call last)",
      "\u001b[0;32m<ipython-input-6-d1999fa87758>\u001b[0m in \u001b[0;36m<module>\u001b[0;34m\u001b[0m\n\u001b[1;32m      9\u001b[0m         \u001b[0mx\u001b[0m \u001b[0;34m=\u001b[0m \u001b[0mbatch_frames\u001b[0m\u001b[0;34m[\u001b[0m\u001b[0;34m:\u001b[0m\u001b[0;34m,\u001b[0m\u001b[0;36m0\u001b[0m\u001b[0;34m]\u001b[0m\u001b[0;34m\u001b[0m\u001b[0;34m\u001b[0m\u001b[0m\n\u001b[1;32m     10\u001b[0m         \u001b[0my\u001b[0m \u001b[0;34m=\u001b[0m \u001b[0mbatch_frames\u001b[0m\u001b[0;34m[\u001b[0m\u001b[0;34m:\u001b[0m\u001b[0;34m,\u001b[0m\u001b[0;36m1\u001b[0m\u001b[0;34m]\u001b[0m\u001b[0;34m\u001b[0m\u001b[0;34m\u001b[0m\u001b[0m\n\u001b[0;32m---> 11\u001b[0;31m         \u001b[0mminibatch\u001b[0m \u001b[0;34m=\u001b[0m \u001b[0mtorch\u001b[0m\u001b[0;34m.\u001b[0m\u001b[0mcat\u001b[0m\u001b[0;34m(\u001b[0m\u001b[0;34m(\u001b[0m\u001b[0mx\u001b[0m\u001b[0;34m,\u001b[0m\u001b[0my\u001b[0m\u001b[0;34m)\u001b[0m\u001b[0;34m,\u001b[0m\u001b[0mdim\u001b[0m\u001b[0;34m=\u001b[0m\u001b[0;36m0\u001b[0m\u001b[0;34m)\u001b[0m\u001b[0;34m\u001b[0m\u001b[0;34m\u001b[0m\u001b[0m\n\u001b[0m\u001b[1;32m     12\u001b[0m         \u001b[0mminibatch\u001b[0m \u001b[0;34m=\u001b[0m \u001b[0mminibatch\u001b[0m\u001b[0;34m.\u001b[0m\u001b[0mto\u001b[0m\u001b[0;34m(\u001b[0m\u001b[0mdevice\u001b[0m\u001b[0;34m)\u001b[0m\u001b[0;34m\u001b[0m\u001b[0;34m\u001b[0m\u001b[0m\n\u001b[1;32m     13\u001b[0m         \u001b[0mminibatch\u001b[0m \u001b[0;34m=\u001b[0m \u001b[0mmodel\u001b[0m\u001b[0;34m(\u001b[0m\u001b[0mminibatch\u001b[0m\u001b[0;34m)\u001b[0m\u001b[0;34m\u001b[0m\u001b[0;34m\u001b[0m\u001b[0m\n",
      "\u001b[0;31mKeyboardInterrupt\u001b[0m: "
     ]
    }
   ],
   "source": [
    "train_losses = []\n",
    "epochs = 500\n",
    "model.train()\n",
    "\n",
    "for epoch in range(epochs):\n",
    "    running_loss = 0\n",
    "    for batch_frames, _ in data_loader:\n",
    "        optimizer.zero_grad()\n",
    "        x = batch_frames[:,0]\n",
    "        y = batch_frames[:,1]\n",
    "        minibatch = torch.cat((x,y),dim=0)\n",
    "        minibatch = minibatch.to(device)\n",
    "        minibatch = model(minibatch)\n",
    "        loss = minibatch_n_pair_loss(minibatch)\n",
    "        loss.backward()\n",
    "        optimizer.step()\n",
    "        running_loss += loss.item()\n",
    "    else:\n",
    "        train_losses.append(running_loss)\n",
    "        scheduler.step()\n",
    "        print(\"Epoch: %3d | Running Loss: %f | LR: %.9f\" % (epoch, running_loss, optimizer.param_groups[0]['lr']))\n",
    "        \n",
    "plt.plot(train_losses)"
   ]
  },
  {
   "cell_type": "code",
   "execution_count": null,
   "metadata": {},
   "outputs": [],
   "source": [
    "model = models.resnet50()\n",
    "model.fc = nn.Linear(2048,100)\n",
    "print(model)"
   ]
  },
  {
   "cell_type": "code",
   "execution_count": null,
   "metadata": {},
   "outputs": [],
   "source": [
    "test = torch.zeros(6,3)\n",
    "test[0,0] = 1.0\n",
    "test[1,1] = 1.0\n",
    "test[2,2] = 1.0\n",
    "test[3,0] = 1.0\n",
    "test[4,1] = 1.0\n",
    "test[5,2] = 1.0\n",
    "test = test.to(device)\n",
    "minibatch_n_pair_loss(test).item()"
   ]
  },
  {
   "cell_type": "code",
   "execution_count": null,
   "metadata": {},
   "outputs": [],
   "source": []
  }
 ],
 "metadata": {
  "kernelspec": {
   "display_name": "Python 3",
   "language": "python",
   "name": "python3"
  },
  "language_info": {
   "codemirror_mode": {
    "name": "ipython",
    "version": 3
   },
   "file_extension": ".py",
   "mimetype": "text/x-python",
   "name": "python",
   "nbconvert_exporter": "python",
   "pygments_lexer": "ipython3",
   "version": "3.6.9"
  }
 },
 "nbformat": 4,
 "nbformat_minor": 2
}
