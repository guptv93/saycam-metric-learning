{
 "cells": [
  {
   "cell_type": "markdown",
   "metadata": {},
   "source": [
    "# Metric Learning on Video Frames using N-Pair Loss"
   ]
  },
  {
   "cell_type": "markdown",
   "metadata": {},
   "source": [
    "### Import Libraries and Check GPU"
   ]
  },
  {
   "cell_type": "code",
   "execution_count": null,
   "metadata": {
    "scrolled": true
   },
   "outputs": [],
   "source": [
    "import torch\n",
    "from torchvision import transforms, datasets, models\n",
    "from torch import nn, optim\n",
    "import numpy as np\n",
    "import matplotlib.pyplot as plt\n",
    "import os\n",
    "import torch.nn.functional as F\n",
    "from IPython.display import clear_output\n",
    "from time import sleep\n",
    "\n",
    "device = torch.device(\"cuda:0\" if torch.cuda.is_available() else \"cpu\")\n",
    "print(device)"
   ]
  },
  {
   "cell_type": "markdown",
   "metadata": {},
   "source": [
    "### Directory Setup for PyTorch DatasetFolder"
   ]
  },
  {
   "cell_type": "code",
   "execution_count": null,
   "metadata": {
    "scrolled": true
   },
   "outputs": [],
   "source": [
    "directory = ['/scratch/vvg239/headcam/frames', '/scratch/vvg239/headcam/moving_mnist/mm_folder']\n",
    "\n",
    "def folder_setup(dir_name):\n",
    "    \"\"\"One Time Directory Setup for DatasetFolder\"\"\"\n",
    "    file_list = os.listdir(dir_name)\n",
    "    for file in file_list:\n",
    "        fdr = dir_name + file[6:-4]\n",
    "        os.mkdir(fdr, mode = 0o700)\n",
    "        os.rename(dir_name + file, fdr + \"/\" + file)\n",
    "        \n",
    "#folder_setup(directory[1])"
   ]
  },
  {
   "cell_type": "markdown",
   "metadata": {},
   "source": [
    "### Moving MNIST / Saycam Visualization"
   ]
  },
  {
   "cell_type": "code",
   "execution_count": null,
   "metadata": {
    "scrolled": true
   },
   "outputs": [],
   "source": [
    "use_moving_mnist = True #6,8,2,9,1,8\n",
    "filepath = ['frames/0/video_0.npy', 'moving_mnist/mm_folder/0/np_0.npy']\n",
    "frames = np.load(filepath[use_moving_mnist])\n",
    "print(frames.shape)\n",
    "\n",
    "def plot_videoframes(frames):\n",
    "    for i in range(min(frames.shape[0], 40)):\n",
    "        plt.imshow(frames[i, :, :, :], interpolation='nearest')\n",
    "        plt.show()\n",
    "        sleep(0.01)\n",
    "        clear_output(wait=True)\n",
    "\n",
    "    plt.close()\n",
    "\n",
    "plot_videoframes(frames)"
   ]
  },
  {
   "cell_type": "markdown",
   "metadata": {},
   "source": [
    "### Setting up PyTorch Dataset"
   ]
  },
  {
   "cell_type": "code",
   "execution_count": null,
   "metadata": {
    "scrolled": true
   },
   "outputs": [],
   "source": [
    "class NpyVideoFolder(datasets.DatasetFolder):\n",
    "    \n",
    "    def __init__(self, root, transform=None, distance=5, max_distance=15, update_after=0):\n",
    "        super().__init__(root, loader=self.default_loader, transform=None, extensions='.npy')\n",
    "        self.counter = 0\n",
    "        self.distance = distance\n",
    "        self.max_distance = max_distance\n",
    "        self.update_after = update_after\n",
    "        self.preprocess = transform\n",
    "    \n",
    "    def default_loader(self, path):\n",
    "        \"\"\"Load Numpy Files into PyTorch Dataset. Returns array of the form 2x3xWxH (as used in PyTorch)\"\"\"\n",
    "        self.counter += 1\n",
    "        if(self.counter == self.update_after):\n",
    "            self.counter = 0\n",
    "            self.distance += 1\n",
    "            self.distance = min(self.distance, self.max_distance)\n",
    "            #print(\"Distance is %d!!\" % self.distance)\n",
    "        samples = torch.from_numpy(np.load(path))\n",
    "        x = np.random.randint(samples.shape[0]-self.distance)\n",
    "        sample_a = self.preprocess(samples[x].permute(2,0,1))\n",
    "        sample_p = self.preprocess(samples[x + self.distance].permute(2,0,1))\n",
    "        return torch.stack([sample_a,sample_p],dim=0)\n",
    "    \n",
    "transform = transforms.Compose([transforms.ToPILImage(), \n",
    "                                transforms.Resize(224), \n",
    "                                transforms.ToTensor(),\n",
    "                                transforms.Normalize((0.485, 0.456, 0.406), (0.229, 0.224, 0.225))])\n",
    "\n",
    "dataset = NpyVideoFolder(root=directory[use_moving_mnist], transform=transform, distance=15, max_distance=20, update_after=300)"
   ]
  },
  {
   "cell_type": "markdown",
   "metadata": {},
   "source": [
    "### Setting up PyTorch Data Loader for Training and Validation"
   ]
  },
  {
   "cell_type": "code",
   "execution_count": null,
   "metadata": {
    "scrolled": true
   },
   "outputs": [],
   "source": [
    "validation_split = 0.2\n",
    "batch_size = 30\n",
    "dataset_size = len(dataset)\n",
    "indices = list(range(dataset_size))\n",
    "split = int(np.floor(validation_split * dataset_size))\n",
    "\n",
    "train_indices, val_indices = indices[split:], indices[:split]\n",
    "\n",
    "# Creating PT data samplers and loaders:\n",
    "train_sampler = torch.utils.data.sampler.SubsetRandomSampler(train_indices)\n",
    "#valid_sampler = torch.utils.data.sampler.SubsetRandomSampler(val_indices)\n",
    "validation_set = torch.utils.data.Subset(dataset, val_indices)\n",
    "\n",
    "train_loader = torch.utils.data.DataLoader(dataset, batch_size=batch_size, \n",
    "                                           sampler=train_sampler)\n",
    "val_loader = torch.utils.data.DataLoader(validation_set, batch_size=batch_size)\n",
    "\n",
    "## Frame Visualization Helper\n",
    "def viz_helper(data_loader, num_vid):\n",
    "    batch, _ = iter(data_loader).next()\n",
    "    video_frames = batch[num_vid]\n",
    "    video_frames = video_frames.permute(0,2,3,1)\n",
    "    fig, (ax1, ax2) = plt.subplots(nrows=1, ncols=2)\n",
    "    ax1.imshow(video_frames[0])\n",
    "    ax2.imshow(video_frames[1])\n",
    "\n",
    "viz_helper(val_loader, 1)"
   ]
  },
  {
   "cell_type": "markdown",
   "metadata": {},
   "source": [
    "### Setting the Network and N-Pair Loss Function"
   ]
  },
  {
   "cell_type": "code",
   "execution_count": null,
   "metadata": {
    "scrolled": true
   },
   "outputs": [],
   "source": [
    "# model = models.alexnet()\n",
    "# classifier = nn.Sequential(#nn.Dropout(0.1),\n",
    "#                            nn.Linear(9216,4096),\n",
    "#                            nn.ReLU(inplace=True),\n",
    "#                            #nn.Dropout(0.1),\n",
    "#                            nn.Linear(4096,20))\n",
    "# model.classifier = classifier\n",
    "# print(torch.mean(model.features[8].weight))\n",
    "\n",
    "model = models.resnet50()\n",
    "model.fc = nn.Linear(2048,100)\n",
    "# print(model)\n",
    "\n",
    "model.to(device)\n",
    "\n",
    "optimizer = optim.Adam(model.parameters(), lr=0.001)\n",
    "scheduler = optim.lr_scheduler.StepLR(optimizer, step_size=70, gamma=0.1)\n",
    "\n",
    "\n",
    "def minibatch_n_pair_loss(batch):\n",
    "    loss = 0.0\n",
    "    N = batch.shape[0]//2\n",
    "    for i in range(N):\n",
    "        negative_samples = torch.cat((batch[N:N+i], batch[N+i+1:]),dim=0)\n",
    "        loss += n_pair_loss(batch[i], batch[N+i], negative_samples) #+ n_pair_loss(batch[N+i], batch[i], negative_samples)\n",
    "    return loss/N\n",
    "\n",
    "def n_pair_loss(anchor, positive, negatives):\n",
    "    n_pair = torch.cat((positive.unsqueeze(0), negatives))\n",
    "    sims = F.cosine_similarity(n_pair, anchor.repeat(n_pair.shape[0], 1), dim=1)\n",
    "    logits = sims.unsqueeze(0)\n",
    "    labels = torch.zeros(1).to(device, dtype=torch.long)\n",
    "    ret = F.cross_entropy(logits, labels)\n",
    "    return ret\n",
    "\n",
    "def validate(batch):\n",
    "    N = batch.shape[0]//2\n",
    "    anchors = batch[0:N]\n",
    "    others = batch[N:]\n",
    "    count = 0\n",
    "    for i in range(N):\n",
    "        sims = F.cosine_similarity(others, anchors[i].repeat(N, 1), dim=1)\n",
    "        if sims.argmax() == i:\n",
    "            count += 1\n",
    "    return count"
   ]
  },
  {
   "cell_type": "markdown",
   "metadata": {},
   "source": [
    "### Training the Network"
   ]
  },
  {
   "cell_type": "code",
   "execution_count": null,
   "metadata": {
    "scrolled": true
   },
   "outputs": [],
   "source": [
    "def train(epoch):\n",
    "    model.train()\n",
    "    running_loss = 0\n",
    "    lr = optimizer.param_groups[0]['lr']\n",
    "    for batch_frames, _ in train_loader:\n",
    "        optimizer.zero_grad()\n",
    "        x = batch_frames[:,0]\n",
    "        y = batch_frames[:,1]\n",
    "        minibatch = torch.cat((x,y),dim=0)\n",
    "        minibatch = minibatch.to(device)\n",
    "        minibatch = model(minibatch)\n",
    "        loss = minibatch_n_pair_loss(minibatch)\n",
    "        loss.backward()\n",
    "        optimizer.step()\n",
    "        running_loss += loss.item()\n",
    "    print(\"Epoch: %3d | Running Loss: %f | LR : %.9f\" \n",
    "          % (epoch, running_loss, lr))\n",
    "    return running_loss\n",
    "\n",
    "\n",
    "def validation():\n",
    "    scheduler.step()\n",
    "    accuracy = 0\n",
    "    for batch_frames, _ in val_loader:\n",
    "        with torch.no_grad():\n",
    "            x = batch_frames[:,0]\n",
    "            y = batch_frames[:,1]\n",
    "            minibatch = torch.cat((x,y),dim=0)\n",
    "            minibatch = minibatch.to(device)\n",
    "            accuracy += validate(model(minibatch))\n",
    "    return accuracy"
   ]
  },
  {
   "cell_type": "code",
   "execution_count": null,
   "metadata": {
    "scrolled": true
   },
   "outputs": [],
   "source": [
    "epochs = 450\n",
    "max_accuracy = 0\n",
    "train_losses = []\n",
    "for epoch in range(epochs):\n",
    "    train_losses.append(train(epoch))\n",
    "    accuracy = validation()\n",
    "    if accuracy > max_accuracy:\n",
    "        max_accuracy = accuracy\n",
    "        model_file = 'model.pth'\n",
    "        print(\"Saving model to %s. Accuracy = %d/%d.\" %(model_file, accuracy, split))\n",
    "        torch.save(model.state_dict(), model_file)\n",
    "\n",
    "plt.plot(train_losses)"
   ]
  },
  {
   "cell_type": "markdown",
   "metadata": {},
   "source": [
    "### Visualize Network Performance"
   ]
  },
  {
   "cell_type": "code",
   "execution_count": null,
   "metadata": {
    "scrolled": false
   },
   "outputs": [],
   "source": [
    "state_dict = torch.load(model_file)\n",
    "model.load_state_dict(state_dict)\n",
    "model.eval()\n",
    "with torch.no_grad():\n",
    "    batch_frames, _ = next(iter(val_loader))\n",
    "    batch_frames2, _ = next(iter(val_loader))\n",
    "    batch_frames = torch.cat((batch_frames,batch_frames2), dim=0)\n",
    "    x = batch_frames[:,0]\n",
    "    y = batch_frames[:,1]\n",
    "    minibatch = torch.cat((x,y),dim=0)\n",
    "    minibatch_gpu = minibatch.to(device)\n",
    "    batch = model(minibatch_gpu)\n",
    "    N = batch.shape[0]//4\n",
    "    anchors = batch[0:N]\n",
    "    others = batch[N:]\n",
    "    minibatch = minibatch.permute(0,2,3,1)\n",
    "    for i in range(N):\n",
    "        sims = F.cosine_similarity(others, anchors[i].repeat(3*N, 1), dim=1)\n",
    "        _, indices = torch.topk(sims, 3)\n",
    "        fig, (ax1, ax2, ax3, ax4) = plt.subplots(nrows=1, ncols=4)\n",
    "        ax1.imshow(minibatch[i])\n",
    "        ax2.imshow(minibatch[N+indices[0]])\n",
    "        ax3.imshow(minibatch[N+indices[1]])\n",
    "        ax4.imshow(minibatch[N+indices[2]])"
   ]
  },
  {
   "cell_type": "markdown",
   "metadata": {},
   "source": [
    "### Trial Code"
   ]
  },
  {
   "cell_type": "code",
   "execution_count": null,
   "metadata": {
    "scrolled": true
   },
   "outputs": [],
   "source": [
    "### Loss Function Sanity\n",
    "# test = torch.zeros(6,3)\n",
    "# test[0,0] = 1.0\n",
    "# test[1,1] = 1.0\n",
    "# test[2,2] = 1.0\n",
    "# test[3,1] = 1.0\n",
    "# test[4,0] = 1.0\n",
    "# test[5,2] = 1.0\n",
    "# print(validate(test))"
   ]
  },
  {
   "cell_type": "code",
   "execution_count": null,
   "metadata": {
    "scrolled": true
   },
   "outputs": [],
   "source": [
    "### Single Training Step\n",
    "# model.train()\n",
    "# batch_frames, _ = iter(data_loader).next()\n",
    "# optimizer.zero_grad()\n",
    "# x = batch_frames[:,0]\n",
    "# y = batch_frames[:,1]\n",
    "# minibatch = torch.cat((x,y),dim=0)\n",
    "# minibatch = minibatch.to(device)\n",
    "# minibatch = model(minibatch)\n",
    "# loss = minibatch_n_pair_loss(minibatch)\n",
    "# loss.backward()\n",
    "# optimizer.step()"
   ]
  },
  {
   "cell_type": "code",
   "execution_count": null,
   "metadata": {
    "scrolled": true
   },
   "outputs": [],
   "source": [
    "# x = torch.arange(10., 20.)\n",
    "# values, indices = torch.topk(x, 3)\n",
    "# print(str(indices))"
   ]
  }
 ],
 "metadata": {
  "kernelspec": {
   "display_name": "Python 3",
   "language": "python",
   "name": "python3"
  },
  "language_info": {
   "codemirror_mode": {
    "name": "ipython",
    "version": 3
   },
   "file_extension": ".py",
   "mimetype": "text/x-python",
   "name": "python",
   "nbconvert_exporter": "python",
   "pygments_lexer": "ipython3",
   "version": "3.6.9"
  }
 },
 "nbformat": 4,
 "nbformat_minor": 2
}
